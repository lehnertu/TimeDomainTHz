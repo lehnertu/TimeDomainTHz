{
 "cells": [
  {
   "cell_type": "markdown",
   "metadata": {},
   "source": [
    "# Create a meshed screen with a plane-wave beam"
   ]
  },
  {
   "cell_type": "markdown",
   "metadata": {},
   "source": [
    "The screen is placed at the origin with the normal pointing (1/sqrt(2), 0, -1/sqrt(2)) <br>\n",
    "The beam is propagating in positive z direction and would be reflected to positive x direction (left).<br>\n",
    "The beam is a plane wave but with a gaussian temporal pulse shape."
   ]
  },
  {
   "cell_type": "code",
   "execution_count": 1,
   "metadata": {
    "collapsed": true
   },
   "outputs": [],
   "source": [
    "import numpy as np\n",
    "import matplotlib.pyplot as plt\n",
    "from scipy import constants\n",
    "from MeshedFields import *"
   ]
  },
  {
   "cell_type": "code",
   "execution_count": 2,
   "metadata": {
    "collapsed": false
   },
   "outputs": [
    {
     "name": "stdout",
     "output_type": "stream",
     "text": [
      "1155 points\n",
      "2100 triangles\n"
     ]
    }
   ],
   "source": [
    "mesh = MeshedField.CircularMesh(R=0.01, ratio=10.0, lcar=0.2)\n",
    "print(\"%d points\" % len(mesh.points))\n",
    "print(\"%d triangles\" % len(mesh.triangles))"
   ]
  },
  {
   "cell_type": "code",
   "execution_count": 3,
   "metadata": {
    "collapsed": true
   },
   "outputs": [],
   "source": [
    "pts = [np.array([p[0],p[1],p[0]])for p in mesh.points]\n",
    "source = MeshedField(pts, mesh.triangles)"
   ]
  },
  {
   "cell_type": "code",
   "execution_count": 4,
   "metadata": {
    "collapsed": false
   },
   "outputs": [
    {
     "name": "stdout",
     "output_type": "stream",
     "text": [
      "0.00044401437102\n"
     ]
    }
   ],
   "source": [
    "area = source.MeshArea()\n",
    "print(np.sum(area))"
   ]
  },
  {
   "cell_type": "code",
   "execution_count": 5,
   "metadata": {
    "collapsed": false
   },
   "outputs": [
    {
     "name": "stdout",
     "output_type": "stream",
     "text": [
      "[ 1484.92424049     0.         -1484.92424049]\n"
     ]
    }
   ],
   "source": [
    "normals = source.MeshNormals()\n",
    "print(np.sum(normals, axis=0))"
   ]
  },
  {
   "cell_type": "markdown",
   "metadata": {},
   "source": [
    "### define the beam parameters"
   ]
  },
  {
   "cell_type": "code",
   "execution_count": 24,
   "metadata": {
    "collapsed": false
   },
   "outputs": [
    {
     "name": "stdout",
     "output_type": "stream",
     "text": [
      "f = 0.20 THz\n",
      "λ = 1498.96 µm\n",
      "k = 41.92 1/cm\n"
     ]
    }
   ],
   "source": [
    "# time step\n",
    "dt=1.0e-13\n",
    "NOTS=400\n",
    "\n",
    "# wave parameters\n",
    "tau = 5.0e-12\n",
    "f = 0.2e12\n",
    "print(\"f = %.2f THz\" % (f*1e-12))\n",
    "lam = constants.c/f\n",
    "print(\"λ = %.2f µm\" % (lam*1e6))\n",
    "kz = 2.0*np.pi/lam\n",
    "print(\"k = %.2f 1/cm\" % (kz*1e-2))"
   ]
  },
  {
   "cell_type": "markdown",
   "metadata": {},
   "source": [
    "### compute the field traces for every point"
   ]
  },
  {
   "cell_type": "code",
   "execution_count": 25,
   "metadata": {
    "collapsed": true
   },
   "outputs": [],
   "source": [
    "# all points use the same timing grid\n",
    "# the center time of each trace varies along with the z coordinate\n",
    "t = np.linspace(-NOTS/2*dt, (NOTS/2-1)*dt, NOTS)\n",
    "source.dt = dt\n",
    "source.Nt = NOTS\n",
    "# the time traces start such that the peak of the wave passes at the center time\n",
    "source.t0 = [p[2]/constants.c - NOTS/2*dt for p in source.pos]\n",
    "\n",
    "# field (6 components) traces on screen\n",
    "source.A = np.zeros((source.Np,NOTS,6))\n",
    "# electric field amplitude in V/m\n",
    "E0 = 2.0e7\n",
    "# magnetic field amplitude in T\n",
    "B0 = E0 / constants.c\n",
    "\n",
    "for ip, p in enumerate(source.pos):\n",
    "    z = p[2]\n",
    "    # field strength\n",
    "    time = t + source.t0[ip]\n",
    "    osc = np.cos((2.0*np.pi*f*time)-kz*z) * np.exp(-np.square(t)/(2.0*tau*tau))\n",
    "    Ex = E0 * osc\n",
    "    Ey = np.zeros_like(Ex)\n",
    "    Ez = np.zeros_like(Ex)\n",
    "    Bx = np.zeros_like(Ex)\n",
    "    By = B0 * osc\n",
    "    Bz = np.zeros_like(Ex)\n",
    "    trace = np.array([Ex,Ey,Ez,Bx,By,Bz]).transpose()\n",
    "    source.A[ip] = trace"
   ]
  },
  {
   "cell_type": "code",
   "execution_count": 52,
   "metadata": {
    "collapsed": true
   },
   "outputs": [],
   "source": [
    "filename=\"PlaneWave.h5\"\n",
    "source.WriteMeshedField(filename)"
   ]
  },
  {
   "cell_type": "code",
   "execution_count": 53,
   "metadata": {
    "collapsed": false
   },
   "outputs": [
    {
     "name": "stdout",
     "output_type": "stream",
     "text": [
      "total mesh area =   4.440 cm²\n",
      "peak energy density = 4.704835 J/m²\n",
      "total pulse energy = 2089.0 µJ\n"
     ]
    }
   ],
   "source": [
    "# compute power density for plotting\n",
    "area = source.MeshArea()\n",
    "P = source.EnergyFlowDensity()\n",
    "Pz = P[:,2]\n",
    "\n",
    "print(\"total mesh area = %7.3f cm²\" % (1.0e4*np.sum(area)))\n",
    "print(\"peak energy density = %.6f J/m²\" % np.max(Pz))\n",
    "print(\"total pulse energy = %.1f µJ\" % (1e6*np.dot(area,Pz)))"
   ]
  },
  {
   "cell_type": "code",
   "execution_count": 54,
   "metadata": {
    "collapsed": true
   },
   "outputs": [],
   "source": [
    "source.ShowMeshedField(scalars=Pz,scalarTitle=\"Pz\",showCenters=False)"
   ]
  },
  {
   "cell_type": "code",
   "execution_count": 41,
   "metadata": {
    "collapsed": true
   },
   "outputs": [],
   "source": [
    "Ex0 = source.FieldAtTime(-250.0*dt)[:,0]\n",
    "source.ShowMeshedField(scalars=Ex0,scalarTitle=\"Ex\",showCenters=False,lut=phaseLUT())"
   ]
  },
  {
   "cell_type": "code",
   "execution_count": 44,
   "metadata": {
    "collapsed": false
   },
   "outputs": [
    {
     "name": "stdout",
     "output_type": "stream",
     "text": [
      "[ 0.00848194 -0.00124587  0.00848194]\n",
      "8.29270884959e-12\n",
      "2.82927088496e-11\n",
      "[ 0.00059456 -0.00070818  0.00059456]\n",
      "-1.80167741859e-11\n",
      "1.98322581407e-12\n",
      "[ 0.0008057  -0.00053953  0.0008057 ]\n",
      "-1.73124809563e-11\n",
      "2.68751904366e-12\n"
     ]
    }
   ],
   "source": [
    "# this forces a separate plot window\n",
    "%matplotlib qt\n",
    "\n",
    "# plot a field trace when a cell is clicked\n",
    "# subsequent plots are overlaid in the same window\n",
    "# the plot window only becomes active when the VTK window is closed (it should be spawned as a separate thread)\n",
    "def action(id):\n",
    "    print(source.pos[id])\n",
    "    print(source.t0[id])\n",
    "    print(source.t0[id]+NOTS/2*dt)\n",
    "    source.ShowFieldTrace(id)\n",
    "\n",
    "Ex0 = source.FieldAtTime(0.0*dt)[:,0]\n",
    "source.ShowMeshedField(scalars=Ex0,scalarTitle=\"Ex\",showCenters=False,lut=phaseLUT(),pickAction=action)"
   ]
  },
  {
   "cell_type": "code",
   "execution_count": 42,
   "metadata": {
    "collapsed": true
   },
   "outputs": [],
   "source": [
    "Ex0 = source.FieldAtTime(250.0*dt)[:,0]\n",
    "source.ShowMeshedField(scalars=Ex0,scalarTitle=\"Ex\",showCenters=False,lut=phaseLUT())"
   ]
  },
  {
   "cell_type": "code",
   "execution_count": 51,
   "metadata": {
    "collapsed": false
   },
   "outputs": [
    {
     "name": "stdout",
     "output_type": "stream",
     "text": [
      "[ 0.00041569 -0.0006844   0.00041569]\n",
      "-1.86134198855e-11\n",
      "[ 0.00074974 -0.00142461  0.00074974]\n",
      "-1.74991339286e-11\n"
     ]
    }
   ],
   "source": [
    "print(source.pos[1509])\n",
    "print(source.t0[1509])\n",
    "source.ShowFieldTrace(1509)\n",
    "print(source.pos[1504])\n",
    "print(source.t0[1504])\n",
    "source.ShowFieldTrace(1504)"
   ]
  },
  {
   "cell_type": "code",
   "execution_count": null,
   "metadata": {
    "collapsed": true
   },
   "outputs": [],
   "source": []
  }
 ],
 "metadata": {
  "kernelspec": {
   "display_name": "Python 3",
   "language": "python",
   "name": "python3"
  },
  "language_info": {
   "codemirror_mode": {
    "name": "ipython",
    "version": 3
   },
   "file_extension": ".py",
   "mimetype": "text/x-python",
   "name": "python",
   "nbconvert_exporter": "python",
   "pygments_lexer": "ipython3",
   "version": "3.5.3"
  }
 },
 "nbformat": 4,
 "nbformat_minor": 2
}
