{
 "cells": [
  {
   "cell_type": "markdown",
   "metadata": {},
   "source": [
    "# Create a meshed screen with a plane-wave beam"
   ]
  },
  {
   "cell_type": "markdown",
   "metadata": {},
   "source": [
    "The screen is placed at the origin with the normal pointing (1/sqrt(2), 0, -1/sqrt(2)) <br>\n",
    "The beam is propagating in positive z direction and would be reflected to positive x direction (left).<br>\n",
    "The beam is a plane wave but with a gaussian temporal pulse shape."
   ]
  },
  {
   "cell_type": "code",
   "execution_count": 1,
   "metadata": {},
   "outputs": [],
   "source": [
    "import numpy as np\n",
    "import matplotlib.pyplot as plt\n",
    "from scipy import constants\n",
    "from MeshedFields import *"
   ]
  },
  {
   "cell_type": "code",
   "execution_count": 7,
   "metadata": {},
   "outputs": [
    {
     "name": "stdout",
     "output_type": "stream",
     "text": [
      "117108 points\n",
      "230862 triangles\n"
     ]
    }
   ],
   "source": [
    "mesh = MeshedField.CircularMesh(R=0.05, ratio=25.0, lcar=0.03)\n",
    "print(\"%d points\" % len(mesh.points))\n",
    "print(\"%d triangles\" % len(mesh.triangles))"
   ]
  },
  {
   "cell_type": "markdown",
   "metadata": {},
   "source": [
    "Modify the points so that the screen is angled 45 degree to the incidence (z-axis) and displaced 1.258m from the origin."
   ]
  },
  {
   "cell_type": "code",
   "execution_count": 8,
   "metadata": {},
   "outputs": [],
   "source": [
    "pts = [np.array([p[0],p[1],p[0]+1.258])for p in mesh.points]\n",
    "target = MeshedField(pts, mesh.triangles)"
   ]
  },
  {
   "cell_type": "markdown",
   "metadata": {},
   "source": [
    "We check the typical size of the triangles in x and z direction.<br>\n",
    "This has to be substantially smaller than the wavelength."
   ]
  },
  {
   "cell_type": "code",
   "execution_count": 9,
   "metadata": {},
   "outputs": [
    {
     "name": "stdout",
     "output_type": "stream",
     "text": [
      "0.00135402686858\n",
      "5.43681343998e-05\n"
     ]
    },
    {
     "data": {
      "text/plain": [
       "(array([  0.00000000e+00,   0.00000000e+00,   0.00000000e+00,\n",
       "          1.70000000e+02,   6.37000000e+03,   4.68060000e+04,\n",
       "          7.49830000e+04,   6.43430000e+04,   3.03410000e+04,\n",
       "          7.16700000e+03,   6.76000000e+02,   6.00000000e+00,\n",
       "          0.00000000e+00,   0.00000000e+00,   0.00000000e+00,\n",
       "          0.00000000e+00,   0.00000000e+00,   0.00000000e+00,\n",
       "          0.00000000e+00]),\n",
       " array([  0.00000000e+00,   7.89473684e-06,   1.57894737e-05,\n",
       "          2.36842105e-05,   3.15789474e-05,   3.94736842e-05,\n",
       "          4.73684211e-05,   5.52631579e-05,   6.31578947e-05,\n",
       "          7.10526316e-05,   7.89473684e-05,   8.68421053e-05,\n",
       "          9.47368421e-05,   1.02631579e-04,   1.10526316e-04,\n",
       "          1.18421053e-04,   1.26315789e-04,   1.34210526e-04,\n",
       "          1.42105263e-04,   1.50000000e-04]),\n",
       " <a list of 19 Patch objects>)"
      ]
     },
     "execution_count": 9,
     "metadata": {},
     "output_type": "execute_result"
    },
    {
     "data": {
      "image/png": "[encoded data removed]",
      "text/plain": [
       "<matplotlib.figure.Figure at 0x7f3d99abaa20>"
      ]
     },
     "metadata": {
      "needs_background": "light"
     },
     "output_type": "display_data"
    }
   ],
   "source": [
    "def zsize(id):\n",
    "    t = target.triangles[id]\n",
    "    pts = [target.points[ip] for ip in t]\n",
    "    z = [p[2] for p in pts]\n",
    "    dz = np.max(z)-np.min(z)\n",
    "    return dz\n",
    "\n",
    "def ysize(id):\n",
    "    t = target.triangles[id]\n",
    "    pts = [target.points[ip] for ip in t]\n",
    "    y = [p[1] for p in pts]\n",
    "    dy = np.max(y)-np.min(y)\n",
    "    return dy\n",
    "\n",
    "dy = [ysize(id) for id in range(target.Np)]\n",
    "print(np.average(dy))\n",
    "dz = [zsize(id) for id in range(target.Np)]\n",
    "print(np.average(dz))\n",
    "\n",
    "plt.hist(dz, bins=np.linspace(0,0.00015,20))"
   ]
  },
  {
   "cell_type": "code",
   "execution_count": 6,
   "metadata": {},
   "outputs": [
    {
     "name": "stdout",
     "output_type": "stream",
     "text": [
      "[  7.07106781e-01  -2.05590733e-17  -7.07106781e-01]\n"
     ]
    }
   ],
   "source": [
    "normals = target.MeshNormals()\n",
    "print(np.sum(normals, axis=0)/target.Np)"
   ]
  },
  {
   "cell_type": "code",
   "execution_count": 6,
   "metadata": {},
   "outputs": [
    {
     "name": "stdout",
     "output_type": "stream",
     "text": [
      "0.0111072073454\n",
      "0.0111063451695\n"
     ]
    }
   ],
   "source": [
    "area = target.MeshArea()\n",
    "print(np.pi*np.square(0.05)*np.sqrt(2.0))\n",
    "print(np.sum(area))"
   ]
  },
  {
   "cell_type": "markdown",
   "metadata": {},
   "source": [
    "### setup the timing of the cells\n",
    "\n",
    "The peak of the wave packet is assumed to start at the origin at t=0.\n",
    "\n",
    "The start time of the traces is 200 steps before the expected time of arrival which is computed as the z coordinate of the observation point divided by the speed of light. The length is 600 steps what accounts for some propagation lines having greater length."
   ]
  },
  {
   "cell_type": "code",
   "execution_count": 10,
   "metadata": {},
   "outputs": [
    {
     "name": "stdout",
     "output_type": "stream",
     "text": [
      "4.196236317592753e-09\n"
     ]
    }
   ],
   "source": [
    "print(1.258/constants.c)"
   ]
  },
  {
   "cell_type": "code",
   "execution_count": 15,
   "metadata": {},
   "outputs": [
    {
     "name": "stdout",
     "output_type": "stream",
     "text": [
      "4.00955005778e-09\n",
      "4.3429207742e-09\n",
      "230862\n"
     ]
    }
   ],
   "source": [
    "# time step\n",
    "target.dt = 1.0e-13\n",
    "target.Nt = 500\n",
    "target.t0 = [p[2]/constants.c -200*target.dt for p in target.pos]\n",
    "print(np.min(target.t0))\n",
    "print(np.max(target.t0))\n",
    "print(len(target.t0))"
   ]
  },
  {
   "cell_type": "code",
   "execution_count": 16,
   "metadata": {},
   "outputs": [
    {
     "name": "stdout",
     "output_type": "stream",
     "text": [
      "4.08156948517e-09\n",
      "4.06156948517e-09\n",
      "4.08156948517e-09\n"
     ]
    }
   ],
   "source": [
    "id = 1234\n",
    "z=target.pos[id][2]\n",
    "print(z/constants.c)\n",
    "print(target.t0[id])\n",
    "print(target.t0[id] + 200*target.dt)"
   ]
  },
  {
   "cell_type": "markdown",
   "metadata": {},
   "source": [
    "estimated memory requirements"
   ]
  },
  {
   "cell_type": "code",
   "execution_count": 17,
   "metadata": {},
   "outputs": [
    {
     "data": {
      "text/plain": [
       "5540688000"
      ]
     },
     "execution_count": 17,
     "metadata": {},
     "output_type": "execute_result"
    }
   ],
   "source": [
    "8*target.Np*target.Nt*6"
   ]
  },
  {
   "cell_type": "markdown",
   "metadata": {},
   "source": [
    "## check geometry and write to file"
   ]
  },
  {
   "cell_type": "code",
   "execution_count": 11,
   "metadata": {},
   "outputs": [],
   "source": [
    "target.ShowMeshedField(showCenters=False,showAxes=True)"
   ]
  },
  {
   "cell_type": "code",
   "execution_count": 18,
   "metadata": {},
   "outputs": [],
   "source": [
    "filename=\"AngledTargetFine.h5\"\n",
    "target.WriteMeshedField(filename)"
   ]
  },
  {
   "cell_type": "markdown",
   "metadata": {
    "collapsed": true
   },
   "source": [
    "## check the source file"
   ]
  },
  {
   "cell_type": "code",
   "execution_count": 2,
   "metadata": {},
   "outputs": [
    {
     "name": "stdout",
     "output_type": "stream",
     "text": [
      "-2e-11\n",
      "-2e-11\n",
      "peak energy density = 3.711593 J/m²\n",
      "total pulse energy = 2364.6 µJ\n"
     ]
    },
    {
     "data": {
      "image/png": "[encoded data removed]",
      "text/plain": [
       "<matplotlib.figure.Figure at 0x7fee6d967ef0>"
      ]
     },
     "metadata": {
      "needs_background": "light"
     },
     "output_type": "display_data"
    }
   ],
   "source": [
    "filename=\"MeshGaussian.h5\"\n",
    "source = MeshedField.ReadMeshedField(filename)\n",
    "\n",
    "print(np.min(source.t0))\n",
    "print(np.max(source.t0))\n",
    "\n",
    "area = source.MeshArea()\n",
    "P = source.EnergyFlowDensity()\n",
    "Pz = P[:,2]\n",
    "\n",
    "print(\"peak energy density = %.6f J/m²\" % np.max(Pz))\n",
    "print(\"total pulse energy = %.1f µJ\" % (1e6*np.dot(area,Pz)))\n",
    "\n",
    "source.ShowMeshedField(scalars=Pz,scalarTitle=\"Pz\",highlight=[285])\n",
    "source.ShowFieldTrace(285)"
   ]
  },
  {
   "cell_type": "markdown",
   "metadata": {
    "collapsed": true
   },
   "source": [
    "## check the target file after propagation"
   ]
  },
  {
   "cell_type": "code",
   "execution_count": 19,
   "metadata": {},
   "outputs": [
    {
     "name": "stdout",
     "output_type": "stream",
     "text": [
      "4.00979933791e-09\n",
      "4.3424792717e-09\n",
      "peak energy density = 1.876205 J/m²\n",
      "total pulse energy = 3275.7 µJ\n",
      "cell No. 7397 pos=[  2.68676732e-04  -7.47285223e-04   1.25826868e+00]\n"
     ]
    },
    {
     "data": {
      "image/png": "[encoded data removed]",
      "text/plain": [
       "<matplotlib.figure.Figure at 0x7f3d982f9f28>"
      ]
     },
     "metadata": {
      "needs_background": "light"
     },
     "output_type": "display_data"
    }
   ],
   "source": [
    "filename=\"AngledTargetCoarse.h5\"\n",
    "source = MeshedField.ReadMeshedField(filename)\n",
    "\n",
    "print(np.min(source.t0))\n",
    "print(np.max(source.t0))\n",
    "\n",
    "area = source.MeshArea()\n",
    "P = source.EnergyFlowDensity()\n",
    "Pz = P[:,2]\n",
    "\n",
    "print(\"peak energy density = %.6f J/m²\" % np.max(Pz))\n",
    "print(\"total pulse energy = %.1f µJ\" % (1e6*np.dot(area,Pz)))\n",
    "\n",
    "def pick(id):\n",
    "    print(\"cell No. %d pos=%s\" % (id,source.pos[id]))\n",
    "    source.ShowFieldTrace(id)\n",
    "\n",
    "source.ShowMeshedField(scalars=Pz,scalarTitle=\"Pz\",pickAction=pick,showGrid=False)"
   ]
  },
  {
   "cell_type": "code",
   "execution_count": null,
   "metadata": {},
   "outputs": [],
   "source": []
  }
 ],
 "metadata": {
  "kernelspec": {
   "display_name": "Python 3",
   "language": "python",
   "name": "python3"
  },
  "language_info": {
   "codemirror_mode": {
    "name": "ipython",
    "version": 3
   },
   "file_extension": ".py",
   "mimetype": "text/x-python",
   "name": "python",
   "nbconvert_exporter": "python",
   "pygments_lexer": "ipython3",
   "version": "3.5.3"
  }
 },
 "nbformat": 4,
 "nbformat_minor": 2
}
