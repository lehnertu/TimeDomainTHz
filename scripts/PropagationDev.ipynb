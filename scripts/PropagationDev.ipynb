{
 "cells": [
  {
   "cell_type": "code",
   "execution_count": 1,
   "metadata": {
    "collapsed": true
   },
   "outputs": [],
   "source": [
    "import numpy as np\n",
    "from scipy import constants\n",
    "from MeshedFields import *"
   ]
  },
  {
   "cell_type": "code",
   "execution_count": 11,
   "metadata": {
    "collapsed": false
   },
   "outputs": [
    {
     "name": "stdout",
     "output_type": "stream",
     "text": [
      "mesh area = 50.185 cm²\n",
      "(848, 3)\n",
      "peak energy density = 3.711593 J/m²\n",
      "total pulse energy = 2364.6 µJ\n"
     ]
    }
   ],
   "source": [
    "filename=\"MeshGaussian.h5\"\n",
    "mf = MeshedField.ReadMeshedField(filename)\n",
    "\n",
    "area = mf.MeshArea()\n",
    "print(\"mesh area = %.3f cm²\" % (1e4*np.sum(area)))\n",
    "\n",
    "P = mf.EnergyFlowDensity()\n",
    "print(P.shape)\n",
    "Pz = P[:,2]\n",
    "print(\"peak energy density = %.6f J/m²\" % (np.max(Pz)))\n",
    "print(\"total pulse energy = %.1f µJ\" % (1e6*np.dot(area,Pz)))"
   ]
  },
  {
   "cell_type": "code",
   "execution_count": 10,
   "metadata": {
    "collapsed": false
   },
   "outputs": [
    {
     "name": "stdout",
     "output_type": "stream",
     "text": [
      "mesh area = 50.185 cm²\n",
      "(848, 3)\n",
      "peak energy density = 3.555892 J/m²\n",
      "total pulse energy = 2451.2 µJ\n"
     ]
    }
   ],
   "source": [
    "filename=\"NearTarget.h5\"\n",
    "target = MeshedField.ReadMeshedField(filename)\n",
    "\n",
    "area = target.MeshArea()\n",
    "print(\"mesh area = %.3f cm²\" % (1e4*np.sum(area)))\n",
    "\n",
    "P = target.EnergyFlowDensity()\n",
    "print(P.shape)\n",
    "Pz = P[:,2]\n",
    "print(\"peak energy density = %.6f J/m²\" % (np.max(Pz)))\n",
    "print(\"total pulse energy = %.1f µJ\" % (1e6*np.dot(area,Pz)))\n",
    "\n",
    "target.ShowMeshedField(scalars=Pz,scalarTitle=\"Pz\",showCenters=False)"
   ]
  },
  {
   "cell_type": "code",
   "execution_count": 12,
   "metadata": {
    "collapsed": false
   },
   "outputs": [
    {
     "name": "stdout",
     "output_type": "stream",
     "text": [
      "mesh area = 50.185 cm²\n",
      "(848, 3)\n",
      "peak energy density = 1.864030 J/m²\n",
      "total pulse energy = 2273.2 µJ\n"
     ]
    }
   ],
   "source": [
    "filename=\"Target.h5\"\n",
    "target = MeshedField.ReadMeshedField(filename)\n",
    "\n",
    "area = target.MeshArea()\n",
    "print(\"mesh area = %.3f cm²\" % (1e4*np.sum(area)))\n",
    "\n",
    "P = target.EnergyFlowDensity()\n",
    "print(P.shape)\n",
    "Pz = P[:,2]\n",
    "print(\"peak energy density = %.6f J/m²\" % (np.max(Pz)))\n",
    "print(\"total pulse energy = %.1f µJ\" % (1e6*np.dot(area,Pz)))\n",
    "\n",
    "target.ShowMeshedField(scalars=Pz,scalarTitle=\"Pz\",showCenters=False)"
   ]
  },
  {
   "cell_type": "code",
   "execution_count": null,
   "metadata": {
    "collapsed": true
   },
   "outputs": [],
   "source": []
  },
  {
   "cell_type": "code",
   "execution_count": 4,
   "metadata": {
    "collapsed": true
   },
   "outputs": [],
   "source": [
    "mf.ShowMeshedField(scalars=Pz,scalarTitle=\"Pz\",showCenters=False)"
   ]
  },
  {
   "cell_type": "code",
   "execution_count": 6,
   "metadata": {
    "collapsed": false
   },
   "outputs": [],
   "source": [
    "# this forces a separate plot window\n",
    "%matplotlib qt\n",
    "\n",
    "# plot a field trace when a cell is clicked\n",
    "# subsequent plots are overlaid in the same window\n",
    "# the plot window only becomes active when the VTK window is closed (it should be spawned as a separate thread)\n",
    "def action(id):\n",
    "    mf.ShowFieldTrace(id)\n",
    "\n",
    "mf.ShowMeshedField(scalars=Pz,scalarTitle=\"Pz\",showCenters=False, pickAction=action)"
   ]
  },
  {
   "cell_type": "markdown",
   "metadata": {},
   "source": [
    "Compute local coordinate systems for all cells.<br>\n",
    "The direction vectors (xi, eta, n) form a right-handed cartesic system.<br>\n",
    "If the average normal vector is sufficiently far off the y direction xi is confined to lay in the x-z-plane.<br>\n",
    "Otherwise eta is confined to lay in the y-z-plane."
   ]
  },
  {
   "cell_type": "code",
   "execution_count": 30,
   "metadata": {
    "collapsed": false
   },
   "outputs": [
    {
     "name": "stdout",
     "output_type": "stream",
     "text": [
      "[ 0.  0. -1.]\n",
      "[-1.  0.  0.]\n",
      "[ 0.  1.  0.]\n"
     ]
    }
   ],
   "source": [
    "normals = mf.MeshNormals()\n",
    "avg_normal = np.average(normals,axis=0)\n",
    "xi=[]\n",
    "eta=[]\n",
    "if (avg_normal[1] < 0.7):\n",
    "    ey = np.array([0.0,1.0,0.0])\n",
    "    for n in normals:\n",
    "        x = np.cross(ey,n);\n",
    "        xi.append(x/np.linalg.norm(x))\n",
    "        y = np.cross(n,x);\n",
    "        eta.append(y/np.linalg.norm(y))\n",
    "else:\n",
    "    ex = np.array([1.0,0.0,0.0])\n",
    "    for n in normals:\n",
    "        y = np.cross(n,ex);\n",
    "        eta.append(y/np.linalg.norm(y))\n",
    "        x = np.cross(y,n);\n",
    "        xi.append(x/np.linalg.norm(x))\n",
    "\n",
    "print(normals[1190])\n",
    "print(xi[1190])\n",
    "print(eta[1190])"
   ]
  },
  {
   "cell_type": "markdown",
   "metadata": {},
   "source": [
    "find the neighbouring cell<br>\n",
    "(all that share at least one point with the given cell)<br>\n",
    "<br>\n",
    "give the cell coordinates as local coordinates of the index cell"
   ]
  },
  {
   "cell_type": "code",
   "execution_count": 46,
   "metadata": {
    "collapsed": false
   },
   "outputs": [
    {
     "name": "stdout",
     "output_type": "stream",
     "text": [
      "1104 [-0.00099481 -0.00044175  0.        ]\n",
      "1140 [ 0.00042228 -0.00046565  0.        ]\n",
      "1183 [-0.00020744 -0.00143758  0.        ]\n",
      "1190 [ 0.  0.  0.]\n",
      "1270 [ -5.57469494e-04  -2.60680678e-05   0.00000000e+00]\n",
      "1499 [ 0.00041984 -0.0011012   0.        ]\n",
      "2703 [ 0.00083655  0.00077909  0.        ]\n",
      "3898 [-0.00093923 -0.00107254  0.        ]\n",
      "4223 [-0.0007036   0.00111343  0.        ]\n",
      "4244 [-0.00015936  0.00122485  0.        ]\n",
      "4247 [ 0.0011706   0.00032011  0.        ]\n",
      "8412 [ 0.00022939  0.00068288  0.        ]\n",
      "8669 [-0.00087231  0.00054539  0.        ]\n",
      "8911 [ 0.00098572 -0.00024174  0.        ]\n"
     ]
    }
   ],
   "source": [
    "def Neighbourhood(self,index):\n",
    "    ti = self.triangles[index]\n",
    "    nbh = [n for n,t in enumerate(self.triangles) if (ti[0] in t) or (ti[1] in t) or (ti[2] in t)]\n",
    "    return nbh\n",
    "\n",
    "index = 1190\n",
    "loc_coord = []\n",
    "for cell in Neighbourhood(mf,index):\n",
    "    d = mf.pos[cell]-mf.pos[index]\n",
    "    x = np.dot(xi[cell],d)\n",
    "    y = np.dot(eta[cell],d)\n",
    "    z = np.dot(normals[cell],d)\n",
    "    co = np.array([x,y,z])\n",
    "    loc_coord.append(co)\n",
    "    print(cell,co)\n",
    "loc_coord = np.array(loc_coord)"
   ]
  },
  {
   "cell_type": "code",
   "execution_count": 88,
   "metadata": {
    "collapsed": false
   },
   "outputs": [],
   "source": [
    "nbsize = [len(Neighbourhood(mf,index)) for index in range(mf.Np)]"
   ]
  },
  {
   "cell_type": "code",
   "execution_count": 90,
   "metadata": {
    "collapsed": false
   },
   "outputs": [
    {
     "data": {
      "text/plain": [
       "(array([   0,    0,    0,    0,    0,    0,    0,   37,   98,  111,  119,\n",
       "         268, 1668, 3324, 2674,  936,  127,    4,    0,    0,    0]),\n",
       " array([ 0,  1,  2,  3,  4,  5,  6,  7,  8,  9, 10, 11, 12, 13, 14, 15, 16,\n",
       "        17, 18, 19, 20, 21]))"
      ]
     },
     "execution_count": 90,
     "metadata": {},
     "output_type": "execute_result"
    }
   ],
   "source": [
    "np.histogram(nbsize, bins=range(22))"
   ]
  },
  {
   "cell_type": "markdown",
   "metadata": {},
   "source": [
    "compute the fields at a given time step over the cells of a neighbourhood"
   ]
  },
  {
   "cell_type": "code",
   "execution_count": 59,
   "metadata": {
    "collapsed": false
   },
   "outputs": [
    {
     "name": "stdout",
     "output_type": "stream",
     "text": [
      "[ 19880596.17819386  19985239.11522324  19863375.97145006\n",
      "  19988966.68756156  19947417.72080901  19930709.87493346\n",
      "  19968368.81161305  19836296.42043937  19878463.2733149   19914809.54206175\n",
      "  19972052.19175592  19978866.39866267  19900012.66709729\n",
      "  19981322.88169778]\n"
     ]
    }
   ],
   "source": [
    "timestep = 200\n",
    "Ex = np.array([mf.A[cell][timestep][0] for cell in Neighbourhood(mf,index)])\n",
    "print(Ex)"
   ]
  },
  {
   "cell_type": "markdown",
   "metadata": {},
   "source": [
    "show the field as a quadratic form over the transverse local coordinates (xi,eta)<br>\n",
    "E = e00 + e10 xi + e01 eta + e20 xi² + e02 eta² + e11 xi eta"
   ]
  },
  {
   "cell_type": "code",
   "execution_count": 79,
   "metadata": {
    "collapsed": false
   },
   "outputs": [
    {
     "name": "stdout",
     "output_type": "stream",
     "text": [
      "(14, 6) float64\n",
      "(14,) float64\n",
      "[  1.99889249e+07   4.61787860e+07   7.57541788e+06  -4.98133825e+10\n",
      "  -4.98126557e+10   5.25029951e+07]\n",
      "\n",
      "[-47.60452619  35.45383242  -6.85187013  41.79889797 -52.72370413\n",
      " -51.57162689 -27.90055509  60.51893878  50.19586331 -27.31171433\n",
      " -10.25546595  17.32415453 -15.62399233  34.55176807]\n",
      "20306.4549037\n"
     ]
    }
   ],
   "source": [
    "nb_xi = loc_coord[:,0]\n",
    "nb_eta = loc_coord[:,1]\n",
    "nb_xi2 = np.square(nb_xi)\n",
    "nb_eta2 = np.square(nb_eta)\n",
    "nb_xieta = nb_xi * nb_eta\n",
    "nb_one = np.ones_like(nb_xi)\n",
    "\n",
    "A = np.array([nb_one,nb_xi,nb_eta,nb_xi2,nb_eta2,nb_xieta]).transpose()\n",
    "b = Ex\n",
    "print(A.shape,A.dtype)\n",
    "print(b.shape,b.dtype)\n",
    "# solve the equation A x = b in a least-squares sense\n",
    "# return x, chi², rank, singular values\n",
    "x = np.linalg.lstsq(A, b)[0]\n",
    "print(x)\n",
    "print()\n",
    "\n",
    "Ex_fit = np.dot(A,x)\n",
    "print(Ex-Ex_fit)\n",
    "print(np.dot(Ex-Ex_fit,Ex-Ex_fit))"
   ]
  },
  {
   "cell_type": "code",
   "execution_count": 91,
   "metadata": {
    "collapsed": false
   },
   "outputs": [
    {
     "name": "stdout",
     "output_type": "stream",
     "text": [
      "[-0.00099481  0.00042228 -0.00020744  0.         -0.00055747  0.00041984\n",
      "  0.00083655 -0.00093923 -0.0007036  -0.00015936  0.0011706   0.00022939\n",
      " -0.00087231  0.00098572]\n"
     ]
    }
   ],
   "source": [
    "print(nb_xi)"
   ]
  },
  {
   "cell_type": "code",
   "execution_count": 93,
   "metadata": {
    "collapsed": false
   },
   "outputs": [
    {
     "name": "stdout",
     "output_type": "stream",
     "text": [
      "[ -4.41754205e-04  -4.65653171e-04  -1.43758046e-03   0.00000000e+00\n",
      "  -2.60680678e-05  -1.10119617e-03   7.79085304e-04  -1.07253615e-03\n",
      "   1.11342922e-03   1.22485325e-03   3.20114982e-04   6.82881840e-04\n",
      "   5.45389748e-04  -2.41741653e-04]\n"
     ]
    }
   ],
   "source": [
    "print(nb_eta)"
   ]
  },
  {
   "cell_type": "markdown",
   "metadata": {},
   "source": [
    "### plot the field traces of a given cell"
   ]
  },
  {
   "cell_type": "code",
   "execution_count": 14,
   "metadata": {
    "collapsed": true
   },
   "outputs": [],
   "source": [
    "import matplotlib.pyplot as plt"
   ]
  },
  {
   "cell_type": "code",
   "execution_count": 17,
   "metadata": {
    "collapsed": false
   },
   "outputs": [
    {
     "name": "stdout",
     "output_type": "stream",
     "text": [
      "400\n"
     ]
    }
   ],
   "source": [
    "trace = mf.A[1190]\n",
    "NOTS = trace.shape[0]\n",
    "print(NOTS)\n",
    "t0 = mf.t0[1190]\n",
    "dt = mf.dt\n",
    "t = np.linspace(t0,t0+(NOTS-1)*dt, NOTS)\n",
    "\n",
    "Ex = trace[:,0]\n",
    "Ey = trace[:,1]\n",
    "Ez = trace[:,2]\n",
    "Bx = trace[:,3]\n",
    "By = trace[:,4]\n",
    "Bz = trace[:,5]"
   ]
  },
  {
   "cell_type": "code",
   "execution_count": 16,
   "metadata": {
    "collapsed": false
   },
   "outputs": [],
   "source": [
    "# this forces a separate plot window\n",
    "%matplotlib qt\n",
    "\n",
    "# prepare the plot geometry\n",
    "left, width = 0.15, 0.80\n",
    "rect1 = [left, 0.55, width, 0.40]  #left, bottom, width, height\n",
    "rect2 = [left, 0.08, width, 0.40]\n",
    "fig = plt.figure(1,figsize=(8,6))\n",
    "\n",
    "ax1 = fig.add_axes(rect1)\n",
    "ax4 = fig.add_axes(rect2, sharex=ax1)\n",
    "\n",
    "# plot the time-trace of the fields\n",
    "\n",
    "l1 = ax1.plot(t, Ex, \"r-\", label=r'$E_x$')\n",
    "l2 = ax1.plot(t, Ey, \"b-\", label=r'$E_y$')\n",
    "l3 = ax1.plot(t, Ez, \"g-\", label=r'$E_z$')\n",
    "\n",
    "ax1.set_ylabel(r'$E$ [V/m]')\n",
    "lines = l1 + l2 + l3\n",
    "labels = [l.get_label() for l in lines]\n",
    "ax1.legend(lines,labels,loc='upper right')\n",
    "for label in ax1.get_xticklabels():\n",
    "    label.set_visible(False)\n",
    "ax1.grid(True)\n",
    "\n",
    "l4 = ax4.plot(t, Bx, \"r-\", label=r'$B_x$')\n",
    "l5 = ax4.plot(t, By, \"b-\", label=r'$B_y$')\n",
    "l6 = ax4.plot(t, Bz, \"g-\", label=r'$B_z$')\n",
    "\n",
    "ax4.set_ylabel(r'$B$ [T]')\n",
    "ax4.set_xlabel(r't [ns]')\n",
    "lines = l4 + l5 +l6\n",
    "labels = [l.get_label() for l in lines]\n",
    "ax4.legend(lines,labels,loc='upper right')\n",
    "ax4.grid(True)\n",
    "\n",
    "plt.show()"
   ]
  },
  {
   "cell_type": "code",
   "execution_count": null,
   "metadata": {
    "collapsed": true
   },
   "outputs": [],
   "source": []
  }
 ],
 "metadata": {
  "kernelspec": {
   "display_name": "Python 3",
   "language": "python",
   "name": "python3"
  },
  "language_info": {
   "codemirror_mode": {
    "name": "ipython",
    "version": 3
   },
   "file_extension": ".py",
   "mimetype": "text/x-python",
   "name": "python",
   "nbconvert_exporter": "python",
   "pygments_lexer": "ipython3",
   "version": "3.5.3"
  }
 },
 "nbformat": 4,
 "nbformat_minor": 2
}
