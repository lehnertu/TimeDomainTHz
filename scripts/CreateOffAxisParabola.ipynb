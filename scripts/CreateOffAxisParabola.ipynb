{
 "cells": [
  {
   "cell_type": "markdown",
   "metadata": {},
   "source": [
    "eventuell notwendie Bibliotheken sind zu installieren :<br>\n",
    "- gmsh sollte systemweit installiert sein\n",
    "- pip3 install pygmsh --user\n",
    "- pip3 install vtk --user"
   ]
  },
  {
   "cell_type": "code",
   "execution_count": 1,
   "metadata": {
    "collapsed": false
   },
   "outputs": [],
   "source": [
    "%matplotlib inline\n",
    "import matplotlib.pyplot as plt\n",
    "import vtk\n",
    "\n",
    "import pygmsh\n",
    "import numpy as np"
   ]
  },
  {
   "cell_type": "code",
   "execution_count": 2,
   "metadata": {
    "collapsed": false
   },
   "outputs": [
    {
     "name": "stdout",
     "output_type": "stream",
     "text": [
      "Info    : Running 'gmsh -2 /tmp/tmp1r_e2lkl.geo -format msh -bin -o /tmp/tmpl1d_omm0.msh' [Gmsh 2.15.0, 1 node, max. 1 thread]\n",
      "Info    : Started on Mon Feb 17 16:28:31 2020\n",
      "Info    : Reading '/tmp/tmp1r_e2lkl.geo'...\n",
      "Info    : Done reading '/tmp/tmp1r_e2lkl.geo'\n",
      "Info    : Finalized high order topology of periodic connections\n",
      "Info    : Meshing 1D...\n",
      "Info    : Meshing curve 1 (Ellipse)\n",
      "Info    : Meshing curve 2 (Ellipse)\n",
      "Info    : Meshing curve 3 (Ellipse)\n",
      "Info    : Meshing curve 4 (Ellipse)\n",
      "Info    : Done meshing 1D (0.088 s)\n",
      "Info    : Meshing 2D...\n",
      "Info    : Meshing surface 6 (Plane, Delaunay)\n",
      "Info    : Done meshing 2D (0.445292 s)\n",
      "Info    : 8692 vertices 17384 elements\n",
      "Info    : Writing '/tmp/tmpl1d_omm0.msh'...\n",
      "Info    : Done writing '/tmp/tmpl1d_omm0.msh'\n",
      "Info    : Stopped on Mon Feb 17 16:28:31 2020\n"
     ]
    }
   ],
   "source": [
    "geom = pygmsh.built_in.Geometry()\n",
    "\n",
    "# the characteristic size of the triangles\n",
    "# a value of 0.1 gives about 20 triangles along the vertical axis (length 2)\n",
    "lcar = 0.05\n",
    "\n",
    "# we create the initial geometry as a streched ellipse to create\n",
    "# different scaling lengths (cell sizes) along the different axes\n",
    "stretch = 5.0\n",
    "\n",
    "p1 = geom.add_point([stretch, 0.0, 0.0], lcar)\n",
    "p2 = geom.add_point([0.0, 1.0, 0.0], lcar)\n",
    "p3 = geom.add_point([-stretch, 0.0, 0.0], lcar)\n",
    "p4 = geom.add_point([0.0, -1.0, 0.0], lcar)\n",
    "pc = geom.add_point([0.0, 0.0, 0.0], lcar)\n",
    "pa = geom.add_point([1.0, 0.0, 0.0], lcar)\n",
    "\n",
    "e1 = geom.add_ellipse_arc(start=p1, center=pc, point_on_major_axis=pa, end=p2)\n",
    "e2 = geom.add_ellipse_arc(start=p2, center=pc, point_on_major_axis=pa, end=p3)\n",
    "e3 = geom.add_ellipse_arc(start=p3, center=pc, point_on_major_axis=pa, end=p4)\n",
    "e4 = geom.add_ellipse_arc(start=p4, center=pc, point_on_major_axis=pa, end=p1)\n",
    "\n",
    "ll = geom.add_line_loop([e1,e2,e3,e4])\n",
    "geom.add_plane_surface(ll)\n",
    "\n",
    "mesh = pygmsh.generate_mesh(geom, dim=2)"
   ]
  },
  {
   "cell_type": "code",
   "execution_count": 3,
   "metadata": {
    "collapsed": false
   },
   "outputs": [],
   "source": [
    "# we reverse the streching by scaling the coordinates accordingly\n",
    "points = vtk.vtkPoints()\n",
    "for p in mesh.points:\n",
    "    points.InsertNextPoint(p*[1/stretch,1,1])\n",
    "    \n",
    "cells = vtk.vtkCellArray()\n",
    "triangles = mesh.cells['triangle']\n",
    "for t in triangles:\n",
    "    cells.InsertNextCell(3, t)"
   ]
  },
  {
   "cell_type": "code",
   "execution_count": 8,
   "metadata": {
    "collapsed": false
   },
   "outputs": [],
   "source": [
    "colors = vtk.vtkNamedColors()\n",
    "\n",
    "meshData = vtk.vtkPolyData()\n",
    "meshData.SetPoints(points)\n",
    "meshData.SetPolys(cells)\n",
    "\n",
    "meshMapper = vtk.vtkPolyDataMapper()\n",
    "meshMapper.SetInputData(meshData)\n",
    "\n",
    "meshActor = vtk.vtkActor()\n",
    "meshActor.SetMapper(meshMapper)\n",
    "meshActor.GetProperty().SetPointSize(5)\n",
    "meshActor.GetProperty().SetColor(colors.GetColor3d(\"Red\"))\n",
    "meshActor.GetProperty().EdgeVisibilityOn()\n",
    "\n",
    "axesActor = vtk.vtkAxesActor()\n",
    "\n",
    "renderer = vtk.vtkRenderer()\n",
    "renderWindow = vtk.vtkRenderWindow()\n",
    "renderWindow.SetSize(800,600)\n",
    "renderWindow.AddRenderer(renderer)\n",
    "renderWindowInteractor = vtk.vtkRenderWindowInteractor()\n",
    "renderWindowInteractor.SetRenderWindow(renderWindow)\n",
    "renderWindowInteractor.Initialize()\n",
    "style = vtk.vtkInteractorStyleTrackballCamera()\n",
    "renderWindowInteractor.SetInteractorStyle(style)\n",
    "\n",
    "# Add the actor to the scene\n",
    "renderer.AddActor(meshActor)\n",
    "renderer.AddActor(axesActor)\n",
    "renderer.SetBackground(colors.GetColor3d(\"SlateGray\"))\n",
    "\n",
    "# Render and interact\n",
    "renderWindow.Render()\n",
    "renderWindowInteractor.Start()\n",
    "\n",
    "# now the interaction is running until we close the window\n",
    "\n",
    "# cleanup after closing the window\n",
    "del renderWindow\n",
    "del renderWindowInteractor"
   ]
  },
  {
   "cell_type": "code",
   "execution_count": null,
   "metadata": {
    "collapsed": true
   },
   "outputs": [],
   "source": []
  }
 ],
 "metadata": {
  "kernelspec": {
   "display_name": "Python 3",
   "language": "python",
   "name": "python3"
  },
  "language_info": {
   "codemirror_mode": {
    "name": "ipython",
    "version": 3
   },
   "file_extension": ".py",
   "mimetype": "text/x-python",
   "name": "python",
   "nbconvert_exporter": "python",
   "pygments_lexer": "ipython3",
   "version": "3.5.3"
  }
 },
 "nbformat": 4,
 "nbformat_minor": 2
}
