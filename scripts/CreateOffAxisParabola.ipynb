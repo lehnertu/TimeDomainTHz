{
 "cells": [
  {
   "cell_type": "markdown",
   "metadata": {},
   "source": [
    "if not yet available some libraries have to be installed :<br>\n",
    "- gmsh (best installed globally through package management system)\n",
    "- python3 -m pip install pygmsh --user\n",
    "- python3 -m pip install vtk --user"
   ]
  },
  {
   "cell_type": "code",
   "execution_count": 1,
   "metadata": {},
   "outputs": [],
   "source": [
    "import numpy as np\n",
    "from scipy import constants\n",
    "import MeshFields as MF"
   ]
  },
  {
   "cell_type": "code",
   "execution_count": 2,
   "metadata": {},
   "outputs": [
    {
     "name": "stdout",
     "output_type": "stream",
     "text": [
      "858 triangular segments\n"
     ]
    }
   ],
   "source": [
    "pts, tris = MF.CircularMesh(R=2.0, ratio=1.0, lcar=0.1)\n",
    "print(\"%d triangular segments\" % len(tris))\n",
    "pos = [(pts[t[0]] + pts[t[1]] + pts[t[2]]) / 3.0 for t in tris]"
   ]
  },
  {
   "cell_type": "code",
   "execution_count": 3,
   "metadata": {},
   "outputs": [],
   "source": [
    "MF.ShowMeshedField(pts,tris,pos)"
   ]
  },
  {
   "cell_type": "code",
   "execution_count": 4,
   "metadata": {},
   "outputs": [],
   "source": [
    "filename=\"CircularMesh.h5\"\n",
    "MF.WriteMesh(filename, pts,tris,pos)"
   ]
  },
  {
   "cell_type": "code",
   "execution_count": 6,
   "metadata": {},
   "outputs": [],
   "source": [
    "pts, tris, pos = MF.ReadMesh(\"CircularMesh.h5\")\n",
    "MF.ShowMeshedField(pts,tris,pos)"
   ]
  },
  {
   "cell_type": "code",
   "execution_count": null,
   "metadata": {
    "collapsed": true
   },
   "outputs": [],
   "source": []
  }
 ],
 "metadata": {
  "kernelspec": {
   "display_name": "Python 3",
   "language": "python",
   "name": "python3"
  },
  "language_info": {
   "codemirror_mode": {
    "name": "ipython",
    "version": 3
   },
   "file_extension": ".py",
   "mimetype": "text/x-python",
   "name": "python",
   "nbconvert_exporter": "python",
   "pygments_lexer": "ipython3",
   "version": "3.5.3"
  }
 },
 "nbformat": 4,
 "nbformat_minor": 2
}
