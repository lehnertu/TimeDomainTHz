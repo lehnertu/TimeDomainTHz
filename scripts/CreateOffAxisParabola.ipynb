{
 "cells": [
  {
   "cell_type": "markdown",
   "metadata": {},
   "source": [
    "if not yet available some libraries have to be installed :<br>\n",
    "- gmsh (best installed globally through package management system)\n",
    "- python3 -m pip install pygmsh --user\n",
    "- python3 -m pip install vtk --user"
   ]
  },
  {
   "cell_type": "code",
   "execution_count": 2,
   "metadata": {},
   "outputs": [
    {
     "name": "stderr",
     "output_type": "stream",
     "text": [
      "/opt/pkg/devel/python/3.6.2/lib/python3.6/site-packages/h5py/__init__.py:36: FutureWarning: Conversion of the second argument of issubdtype from `float` to `np.floating` is deprecated. In future, it will be treated as `np.float64 == np.dtype(float).type`.\n",
      "  from ._conv import register_converters as _register_converters\n"
     ]
    }
   ],
   "source": [
    "import numpy as np\n",
    "import matplotlib.pyplot as plt\n",
    "from scipy import constants\n",
    "from MeshedFields import *"
   ]
  },
  {
   "cell_type": "code",
   "execution_count": 20,
   "metadata": {},
   "outputs": [
    {
     "name": "stdout",
     "output_type": "stream",
     "text": [
      "117108 points\n",
      "230862 triangles\n"
     ]
    }
   ],
   "source": [
    "mesh = MeshedField.CircularMesh(R=0.05, ratio=25.0, lcar=0.03)\n",
    "\n",
    "print(\"%d points\" % len(mesh.points))\n",
    "print(\"%d triangles\" % len(mesh.triangles))"
   ]
  },
  {
   "cell_type": "markdown",
   "metadata": {},
   "source": [
    "The shape of a off-axis parabola follows a curve $z = \\frac{r^2}{2 r_{fok}}$. $r_{fok}$ is the focal length of the parabola which is the distance of the (parallel) incidence axis of the beam and the rotational symmetry axis of the parabola (the z-axis). The distance from the parabola vertex to the focus is $r_{fok}/2$.<br>\n",
    "We compute the parabolic shape in a local coordinate system centered at the intersection of the incidence axis with the shape. In this local coordinate system, the focus is placed at $[r_{fok},0,0]$ and the vertex of the parabola at $[r_{fok},0,r_{fok}/2]$. A parallel beam incident from $[0,0,-z]$ (propagating in z direction) is collected into the focus at $[r_{fok},0,0]$."
   ]
  },
  {
   "cell_type": "code",
   "execution_count": 21,
   "metadata": {},
   "outputs": [],
   "source": [
    "def parabola(p,rfok):\n",
    "    \"\"\"\n",
    "    Move a point p along the z axis so that is lies on the surface\n",
    "    of an off-axis parabola with focal length rfok.\n",
    "    \"\"\"\n",
    "    x = rfok-p[0]\n",
    "    y = p[1]\n",
    "    r = np.sqrt(x*x+y*y)\n",
    "    z = -(r*r/(2.0*rfok)-0.5*rfok)\n",
    "    return np.array([p[0],p[1],z])\n",
    "\n",
    "d = np.array([0.0, 0.0, 1.258])\n",
    "pts = [parabola(p,0.1)+d for p in mesh.points]\n",
    "para = MeshedField(pts, mesh.triangles)"
   ]
  },
  {
   "cell_type": "code",
   "execution_count": 22,
   "metadata": {},
   "outputs": [
    {
     "data": {
      "text/plain": [
       "((-0.050000000000000003, 0.050000000000000003),\n",
       " (-0.050000000000000003, 0.050000000000000003),\n",
       " (1.1955, 1.2955000000000001))"
      ]
     },
     "execution_count": 22,
     "metadata": {},
     "output_type": "execute_result"
    }
   ],
   "source": [
    "para.BoundingBox()"
   ]
  },
  {
   "cell_type": "markdown",
   "metadata": {},
   "source": [
    "We check the typical size of the triangles in x and z direction.<br>\n",
    "This has to be substantially smaller than the wavelength.\n",
    "\n",
    "It does not show as expected because due to the surface curvature triangles at some y displacement from the axis are distorted. That's OK because for every triangle only one field trace is recorded and only the average spacing matters."
   ]
  },
  {
   "cell_type": "code",
   "execution_count": 23,
   "metadata": {},
   "outputs": [
    {
     "name": "stdout",
     "output_type": "stream",
     "text": [
      "0.00135402686858\n",
      "0.000296920589029\n"
     ]
    },
    {
     "data": {
      "text/plain": [
       "(array([   200.,   7240.,  16062.,  15561.,  13473.,  12424.,  11925.,\n",
       "         11659.,  11279.,  11259.,  11129.,  10737.,  10685.,   9975.,\n",
       "          9361.,   9054.,   8698.,   7772.,   7162.]),\n",
       " array([  0.00000000e+00,   2.63157895e-05,   5.26315789e-05,\n",
       "          7.89473684e-05,   1.05263158e-04,   1.31578947e-04,\n",
       "          1.57894737e-04,   1.84210526e-04,   2.10526316e-04,\n",
       "          2.36842105e-04,   2.63157895e-04,   2.89473684e-04,\n",
       "          3.15789474e-04,   3.42105263e-04,   3.68421053e-04,\n",
       "          3.94736842e-04,   4.21052632e-04,   4.47368421e-04,\n",
       "          4.73684211e-04,   5.00000000e-04]),\n",
       " <a list of 19 Patch objects>)"
      ]
     },
     "execution_count": 23,
     "metadata": {},
     "output_type": "execute_result"
    },
    {
     "data": {
      "image/png": "[encoded data removed]",
      "text/plain": [
       "<matplotlib.figure.Figure at 0x7f0ea4d779e8>"
      ]
     },
     "metadata": {
      "needs_background": "light"
     },
     "output_type": "display_data"
    }
   ],
   "source": [
    "def zsize(id):\n",
    "    t = para.triangles[id]\n",
    "    pts = [para.points[ip] for ip in t]\n",
    "    z = [p[2] for p in pts]\n",
    "    dz = np.max(z)-np.min(z)\n",
    "    return dz\n",
    "\n",
    "def ysize(id):\n",
    "    t = para.triangles[id]\n",
    "    pts = [para.points[ip] for ip in t]\n",
    "    y = [p[1] for p in pts]\n",
    "    dy = np.max(y)-np.min(y)\n",
    "    return dy\n",
    "\n",
    "dy = [ysize(id) for id in range(para.Np)]\n",
    "print(np.average(dy))\n",
    "dz = [zsize(id) for id in range(para.Np)]\n",
    "print(np.average(dz))\n",
    "\n",
    "plt.hist(dz, bins=np.linspace(0,0.0005,20))"
   ]
  },
  {
   "cell_type": "code",
   "execution_count": 26,
   "metadata": {},
   "outputs": [
    {
     "name": "stdout",
     "output_type": "stream",
     "text": [
      "[  6.79511927e-01   1.18062984e-04  -7.01189320e-01]\n"
     ]
    }
   ],
   "source": [
    "normals = para.MeshNormals()\n",
    "print(np.sum(normals, axis=0)/para.Np)"
   ]
  },
  {
   "cell_type": "markdown",
   "metadata": {},
   "source": [
    "### setup the timing of the cells\n",
    "\n",
    "The peak of the wave packet is assumed to start at the origin at t=0.\n",
    "\n",
    "The start time of the traces is 300 steps before the expected time of arrival which is computed as the z coordinate of the observation point divided by the speed of light. The length is 800 steps what accounts for some propagation lines having greater length."
   ]
  },
  {
   "cell_type": "code",
   "execution_count": 28,
   "metadata": {},
   "outputs": [
    {
     "name": "stdout",
     "output_type": "stream",
     "text": [
      "3.95788601633e-09\n",
      "4.29126218711e-09\n",
      "230862\n"
     ]
    }
   ],
   "source": [
    "# time step\n",
    "para.dt = 1.0e-13\n",
    "para.Nt = 800\n",
    "para.t0 = [p[2]/constants.c -300*para.dt for p in para.pos]\n",
    "print(np.min(para.t0))\n",
    "print(np.max(para.t0))\n",
    "print(len(para.t0))"
   ]
  },
  {
   "cell_type": "markdown",
   "metadata": {},
   "source": [
    "## check geometry and write to file"
   ]
  },
  {
   "cell_type": "code",
   "execution_count": 19,
   "metadata": {},
   "outputs": [],
   "source": [
    "para.ShowMeshedField(showCenters=False,showAxes=True)"
   ]
  },
  {
   "cell_type": "markdown",
   "metadata": {},
   "source": [
    "estimated memory requirements"
   ]
  },
  {
   "cell_type": "code",
   "execution_count": 30,
   "metadata": {},
   "outputs": [
    {
     "data": {
      "text/plain": [
       "8865100800"
      ]
     },
     "execution_count": 30,
     "metadata": {},
     "output_type": "execute_result"
    }
   ],
   "source": [
    "8*para.Np*para.Nt*6"
   ]
  },
  {
   "cell_type": "code",
   "execution_count": 31,
   "metadata": {},
   "outputs": [],
   "source": [
    "filename=\"Parabola.h5\"\n",
    "para.WriteMeshedField(filename)"
   ]
  },
  {
   "cell_type": "markdown",
   "metadata": {},
   "source": [
    "## load file after propagation and analyze"
   ]
  },
  {
   "cell_type": "code",
   "execution_count": null,
   "metadata": {},
   "outputs": [],
   "source": [
    "filename=\"../run/MeshGaussian.h5\"\n",
    "prop = MeshedField.ReadMeshedField(filename)\n",
    "\n",
    "area = prop.MeshArea()\n",
    "S = [np.linalg.norm(prop.EnergyFlowVector(i)) for i in range(prop.Np)]\n",
    "Pz = [prop.NormalEnergyFlow(i) for i in range(prop.Np)]\n",
    "\n",
    "print(\"peak energy density = %.6f J/m²\" % np.max(S))\n",
    "print(\"total pulse energy = %.1f µJ\" % (1e6*np.dot(area,Pz)))\n",
    "\n",
    "def pick(id):\n",
    "    if id>0 and id<prop.Np:\n",
    "        print(\"cell No. %d pos=%s\" % (id,prop.pos[id]))\n",
    "        print(\"pointing vector S=%s\" % prop.EnergyFlowVector(id))\n",
    "        prop.ShowFieldTrace(id)\n",
    "\n",
    "prop.ShowMeshedField(scalars=Pz,scalarTitle=\"Pz\",pickAction=pick,showGrid=False)"
   ]
  },
  {
   "cell_type": "code",
   "execution_count": null,
   "metadata": {},
   "outputs": [],
   "source": []
  }
 ],
 "metadata": {
  "kernelspec": {
   "display_name": "Python 3",
   "language": "python",
   "name": "python3"
  },
  "language_info": {
   "codemirror_mode": {
    "name": "ipython",
    "version": 3
   },
   "file_extension": ".py",
   "mimetype": "text/x-python",
   "name": "python",
   "nbconvert_exporter": "python",
   "pygments_lexer": "ipython3",
   "version": "3.6.2"
  }
 },
 "nbformat": 4,
 "nbformat_minor": 2
}
