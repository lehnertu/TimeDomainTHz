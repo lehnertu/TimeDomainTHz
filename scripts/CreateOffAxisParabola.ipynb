{
 "cells": [
  {
   "cell_type": "markdown",
   "metadata": {},
   "source": [
    "if not yet available some libraries have to be installed :<br>\n",
    "- gmsh (best installed globally through package management system)\n",
    "- python3 -m pip install pygmsh --user\n",
    "- python3 -m pip install vtk --user"
   ]
  },
  {
   "cell_type": "code",
   "execution_count": 1,
   "metadata": {
    "collapsed": true
   },
   "outputs": [],
   "source": [
    "import numpy as np\n",
    "from scipy import constants\n",
    "import MeshedFields as MF"
   ]
  },
  {
   "cell_type": "code",
   "execution_count": 15,
   "metadata": {
    "collapsed": false
   },
   "outputs": [
    {
     "name": "stdout",
     "output_type": "stream",
     "text": [
      "848 triangular segments\n"
     ]
    }
   ],
   "source": [
    "pts, tris = MF.CircularMesh(R=0.075, ratio=1.0, lcar=0.1)\n",
    "print(\"%d triangular segments\" % len(tris))\n",
    "pos = [(pts[t[0]] + pts[t[1]] + pts[t[2]]) / 3.0 for t in tris]"
   ]
  },
  {
   "cell_type": "code",
   "execution_count": 3,
   "metadata": {
    "collapsed": true
   },
   "outputs": [],
   "source": [
    "MF.ShowMeshedField(pts,tris,pos)"
   ]
  },
  {
   "cell_type": "markdown",
   "metadata": {},
   "source": [
    "The shape of a off-axis parabola follows a curve $z = \\frac{r^2}{2 r_{fok}}$. $r_{fok}$ is the focal length of the parabola which is the distance of the (parallel) incidence axis of the beam and the rotational symmetry axis of the parabola (the z-axis). The distance from the parabola vertex to the focus is $r_{fok}/2$.<br>\n",
    "We compute the parabolic shape in a local coordinate system centered at the intersection of the incidence axis with the shape. In this local coordinate system, the focus is placed at $[r_{fok},0,0]$ and the vertex of the parabola at $[r_{fok},0,-r_{fok}/2]$. A parallel beam incident from $[0,0,z]$ (propagating in the negative z direction) is collected into the focus at $[r_{fok},0,0]$."
   ]
  },
  {
   "cell_type": "code",
   "execution_count": 16,
   "metadata": {
    "collapsed": false
   },
   "outputs": [],
   "source": [
    "def parabola(p,rfok):\n",
    "    \"\"\"\n",
    "    Move a point p along the z axis so that is lies on the surface\n",
    "    of an off-axis parabola with focal length rfok.\n",
    "    \"\"\"\n",
    "    x = rfok-p[0]\n",
    "    y = p[1]\n",
    "    r = np.sqrt(x*x+y*y)\n",
    "    z = r*r/(2.0*rfok)-0.5*rfok\n",
    "    return np.array([p[0],p[1],z])\n",
    "\n",
    "ppar = [parabola(p,0.1) for p in pts]"
   ]
  },
  {
   "cell_type": "code",
   "execution_count": 19,
   "metadata": {
    "collapsed": true
   },
   "outputs": [],
   "source": [
    "MF.ShowMeshedField(ppar,tris,showAxes=True)"
   ]
  },
  {
   "cell_type": "code",
   "execution_count": null,
   "metadata": {
    "collapsed": true
   },
   "outputs": [],
   "source": []
  }
 ],
 "metadata": {
  "kernelspec": {
   "display_name": "Python 3",
   "language": "python",
   "name": "python3"
  },
  "language_info": {
   "codemirror_mode": {
    "name": "ipython",
    "version": 3
   },
   "file_extension": ".py",
   "mimetype": "text/x-python",
   "name": "python",
   "nbconvert_exporter": "python",
   "pygments_lexer": "ipython3",
   "version": "3.5.3"
  }
 },
 "nbformat": 4,
 "nbformat_minor": 2
}
