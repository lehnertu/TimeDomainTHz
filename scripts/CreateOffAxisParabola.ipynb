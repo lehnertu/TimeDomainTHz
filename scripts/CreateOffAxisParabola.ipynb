{
 "cells": [
  {
   "cell_type": "markdown",
   "metadata": {},
   "source": [
    "if not yet available some libraries have to be installed :<br>\n",
    "- gmsh (best installed globally through package management system)\n",
    "- python3 -m pip install pygmsh --user\n",
    "- python3 -m pip install vtk --user"
   ]
  },
  {
   "cell_type": "code",
   "execution_count": 1,
   "metadata": {},
   "outputs": [],
   "source": [
    "%matplotlib inline\n",
    "import matplotlib.pyplot as plt\n",
    "import vtk\n",
    "\n",
    "import pygmsh\n",
    "import numpy as np"
   ]
  },
  {
   "cell_type": "code",
   "execution_count": 24,
   "metadata": {},
   "outputs": [],
   "source": [
    "def CircularMesh(R=1.0, ratio=1.0, lcar=0.1):\n",
    "    \"\"\"\n",
    "    Create a circular mesh with radius R around the origin [0,0,0].\n",
    "    The normal vector is (0,0,1) in z-direction, the disk lies in the x-y-plane.\n",
    "    \n",
    "    The density of the grid is increased by ratio in the x-direction.\n",
    "    The average cell dimensions are given by lcar. The average cell dimension in\n",
    "    x-direction, thus, is lcar/ratio.\n",
    "    \n",
    "    returns:\n",
    "    - an array of point corrdinates [3 float]\n",
    "    - a connection list of triangles [3 int references into the array of points]\n",
    "    \"\"\"\n",
    "    geom = pygmsh.built_in.Geometry()\n",
    "    # we create the initial geometry as a streched ellipse to create\n",
    "    # different scaling lengths (cell sizes) along the different axes\n",
    "    p1 = geom.add_point([ratio, 0.0, 0.0], lcar)\n",
    "    p2 = geom.add_point([0.0, 1.0, 0.0], lcar)\n",
    "    p3 = geom.add_point([-ratio, 0.0, 0.0], lcar)\n",
    "    p4 = geom.add_point([0.0, -1.0, 0.0], lcar)\n",
    "    pc = geom.add_point([0.0, 0.0, 0.0], lcar)\n",
    "    pa = geom.add_point([1.0, 0.0, 0.0], lcar)\n",
    "    # the patch is circumscribed with four elliptic arcs\n",
    "    e1 = geom.add_ellipse_arc(start=p1, center=pc, point_on_major_axis=pa, end=p2)\n",
    "    e2 = geom.add_ellipse_arc(start=p2, center=pc, point_on_major_axis=pa, end=p3)\n",
    "    e3 = geom.add_ellipse_arc(start=p3, center=pc, point_on_major_axis=pa, end=p4)\n",
    "    e4 = geom.add_ellipse_arc(start=p4, center=pc, point_on_major_axis=pa, end=p1)\n",
    "    # these are combined into a line loop\n",
    "    ll = geom.add_line_loop([e1,e2,e3,e4])\n",
    "    geom.add_plane_surface(ll)\n",
    "    # now we can create the mesh\n",
    "    mesh = pygmsh.generate_mesh(geom, dim=2, verbose=False)\n",
    "    # we reverse the streching by scaling the coordinates accordingly\n",
    "    points = np.array([ p*R*[1.0/ratio,1,1] for p in mesh.points ])\n",
    "    triangles = mesh.cells['triangle']\n",
    "    return points, triangles"
   ]
  },
  {
   "cell_type": "code",
   "execution_count": 79,
   "metadata": {},
   "outputs": [
    {
     "name": "stdout",
     "output_type": "stream",
     "text": [
      "858 triangular segments\n"
     ]
    }
   ],
   "source": [
    "pts, tris = CircularMesh(R=2.0, ratio=1.0, lcar=0.1)\n",
    "print(\"%d triangular segments\" % len(tris))\n",
    "points = vtk.vtkPoints()\n",
    "for p in pts:\n",
    "    points.InsertNextPoint(p)\n",
    "cells = vtk.vtkCellArray()\n",
    "centers = vtk.vtkPoints()\n",
    "for t in tris:\n",
    "    cells.InsertNextCell(3, t)\n",
    "    c = (pts[t[0]] + pts[t[1]] + pts[t[2]]) / 3.0\n",
    "    centers.InsertNextPoint(c)\n"
   ]
  },
  {
   "cell_type": "code",
   "execution_count": 81,
   "metadata": {},
   "outputs": [],
   "source": [
    "colors = vtk.vtkNamedColors()\n",
    "\n",
    "# create a visualization of the triangular mesh\n",
    "meshData = vtk.vtkPolyData()\n",
    "meshData.SetPoints(points)\n",
    "meshData.SetPolys(cells)\n",
    "meshMapper = vtk.vtkPolyDataMapper()\n",
    "meshMapper.SetInputData(meshData)\n",
    "meshActor = vtk.vtkActor()\n",
    "meshActor.SetMapper(meshMapper)\n",
    "meshActor.GetProperty().SetPointSize(5)\n",
    "meshActor.GetProperty().SetColor(colors.GetColor3d(\"Red\"))\n",
    "meshActor.GetProperty().EdgeVisibilityOn()\n",
    "\n",
    "# create a visualization of the mesh center points\n",
    "verts = vtk.vtkCellArray()\n",
    "centerData = vtk.vtkPolyData()\n",
    "centerData.SetPoints(centers)\n",
    "for i, t in enumerate(tris):\n",
    "    verts.InsertNextCell(1, [i])\n",
    "centerData.SetVerts(verts)\n",
    "centerMapper = vtk.vtkPolyDataMapper()\n",
    "centerMapper.SetInputData(centerData)\n",
    "centerActor = vtk.vtkActor()\n",
    "centerActor.SetMapper(centerMapper)\n",
    "centerActor.GetProperty().SetPointSize(3)\n",
    "centerActor.GetProperty().SetColor(colors.GetColor3d(\"Blue\"))\n",
    "\n",
    "# visualize the coordinate system\n",
    "axesActor = vtk.vtkAxesActor()\n",
    "\n",
    "# create a render window\n",
    "renderer = vtk.vtkRenderer()\n",
    "renderWindow = vtk.vtkRenderWindow()\n",
    "renderWindow.SetSize(800,600)\n",
    "renderWindow.AddRenderer(renderer)\n",
    "renderWindowInteractor = vtk.vtkRenderWindowInteractor()\n",
    "renderWindowInteractor.SetRenderWindow(renderWindow)\n",
    "renderWindowInteractor.Initialize()\n",
    "style = vtk.vtkInteractorStyleTrackballCamera()\n",
    "renderWindowInteractor.SetInteractorStyle(style)\n",
    "\n",
    "# add the actors to the scene\n",
    "renderer.AddActor(meshActor)\n",
    "renderer.AddActor(centerActor)\n",
    "renderer.AddActor(axesActor)\n",
    "renderer.SetBackground(colors.GetColor3d(\"SlateGray\"))\n",
    "\n",
    "# render and interact\n",
    "renderWindow.Render()\n",
    "renderWindowInteractor.Start()\n",
    "\n",
    "# now the interaction is running until we close the window\n",
    "\n",
    "# cleanup after closing the window\n",
    "del renderWindow\n",
    "del renderWindowInteractor"
   ]
  },
  {
   "cell_type": "code",
   "execution_count": null,
   "metadata": {},
   "outputs": [],
   "source": []
  }
 ],
 "metadata": {
  "kernelspec": {
   "display_name": "Python 3",
   "language": "python",
   "name": "python3"
  },
  "language_info": {
   "codemirror_mode": {
    "name": "ipython",
    "version": 3
   },
   "file_extension": ".py",
   "mimetype": "text/x-python",
   "name": "python",
   "nbconvert_exporter": "python",
   "pygments_lexer": "ipython3",
   "version": "3.5.3"
  }
 },
 "nbformat": 4,
 "nbformat_minor": 2
}
