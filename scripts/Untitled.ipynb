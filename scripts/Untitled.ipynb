{
 "cells": [
  {
   "cell_type": "code",
   "execution_count": 1,
   "metadata": {},
   "outputs": [],
   "source": [
    "import threading\n",
    "import vtk\n",
    "import numpy as np\n",
    "import matplotlib.pyplot as plt\n",
    "from scipy import constants\n",
    "from MeshedFields import *\n",
    "\n",
    "# this forces a separate plot window\n",
    "%matplotlib qt"
   ]
  },
  {
   "cell_type": "code",
   "execution_count": 2,
   "metadata": {},
   "outputs": [
    {
     "name": "stdout",
     "output_type": "stream",
     "text": [
      "mesh area = 50.258 cm²\n",
      "(9446, 3)\n",
      "peak energy density = 3.754943 J/m²\n",
      "total pulse energy = 2364.1 µJ\n"
     ]
    }
   ],
   "source": [
    "filename=\"MeshGaussian.h5\"\n",
    "mf = MeshedField.ReadMeshedField(filename)\n",
    "\n",
    "area = mf.MeshArea()\n",
    "print(\"mesh area = %.3f cm²\" % (1e4*np.sum(area)))\n",
    "\n",
    "P = mf.EnergyFlowDensity()\n",
    "print(P.shape)\n",
    "Pz = P[:,2]\n",
    "print(\"peak energy density = %.6f J/m²\" % (np.max(Pz)))\n",
    "print(\"total pulse energy = %.1f µJ\" % (1e6*np.dot(area,Pz)))"
   ]
  },
  {
   "cell_type": "code",
   "execution_count": 3,
   "metadata": {},
   "outputs": [],
   "source": [
    "mf.ShowMeshedField(scalars=Pz,scalarTitle=\"Pz\",showCenters=False)"
   ]
  },
  {
   "cell_type": "markdown",
   "metadata": {},
   "source": [
    "### plot the field traces of a given cell"
   ]
  },
  {
   "cell_type": "code",
   "execution_count": 10,
   "metadata": {},
   "outputs": [],
   "source": [
    "\n",
    "# two plots are overlaid in the same plotwindow\n",
    "mf.ShowFieldTrace(1190)\n",
    "mf.ShowFieldTrace(119)"
   ]
  },
  {
   "cell_type": "code",
   "execution_count": 16,
   "metadata": {},
   "outputs": [
    {
     "name": "stdout",
     "output_type": "stream",
     "text": [
      "Mesh cell #2937\n"
     ]
    }
   ],
   "source": [
    "# this forces a separate plot window\n",
    "%matplotlib qt\n",
    "\n",
    "# plot a field trace when a cell is clicked\n",
    "# subsequent plots are overlaid in the same window\n",
    "# the plot window only becomes active when the VTK window is closed (it should be spawned as a separate thread)\n",
    "\n",
    "# with threading the window is not opened, second call causes an error\n",
    "\n",
    "def action(id):\n",
    "    print(\"Mesh cell #%d\" % id)\n",
    "    mf.ShowFieldTrace(id)\n",
    "    # t = threading.Thread(target=mf.ShowFieldTrace, args=(id, ))\n",
    "    # t.start()\n",
    "    \n",
    "mf.ShowMeshedField(scalars=Pz,scalarTitle=\"Pz\",showCenters=False, pickAction=action)"
   ]
  },
  {
   "cell_type": "code",
   "execution_count": null,
   "metadata": {},
   "outputs": [],
   "source": []
  }
 ],
 "metadata": {
  "kernelspec": {
   "display_name": "Python 3",
   "language": "python",
   "name": "python3"
  },
  "language_info": {
   "codemirror_mode": {
    "name": "ipython",
    "version": 3
   },
   "file_extension": ".py",
   "mimetype": "text/x-python",
   "name": "python",
   "nbconvert_exporter": "python",
   "pygments_lexer": "ipython3",
   "version": "3.5.3"
  }
 },
 "nbformat": 4,
 "nbformat_minor": 2
}
