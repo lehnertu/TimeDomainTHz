{
 "cells": [
  {
   "cell_type": "code",
   "execution_count": 1,
   "metadata": {
    "collapsed": true
   },
   "outputs": [],
   "source": [
    "import vtk\n",
    "import numpy as np\n",
    "import matplotlib.pyplot as plt\n",
    "from scipy import constants\n",
    "from MeshedFields import *"
   ]
  },
  {
   "cell_type": "code",
   "execution_count": 2,
   "metadata": {
    "collapsed": false
   },
   "outputs": [
    {
     "name": "stdout",
     "output_type": "stream",
     "text": [
      "mesh area = 50.258 cm²\n",
      "(9366, 3)\n",
      "peak energy density = 3.759716 J/m²\n",
      "total pulse energy = 2364.1 µJ\n"
     ]
    }
   ],
   "source": [
    "filename=\"MeshGaussian.h5\"\n",
    "mf = MeshedField.ReadMeshedField(filename)\n",
    "\n",
    "area = mf.MeshArea()\n",
    "print(\"mesh area = %.3f cm²\" % (1e4*np.sum(area)))\n",
    "\n",
    "P = mf.EnergyFlowDensity()\n",
    "print(P.shape)\n",
    "Pz = P[:,2]\n",
    "print(\"peak energy density = %.6f J/m²\" % (np.max(Pz)))\n",
    "print(\"total pulse energy = %.1f µJ\" % (1e6*np.dot(area,Pz)))"
   ]
  },
  {
   "cell_type": "code",
   "execution_count": 3,
   "metadata": {
    "collapsed": true
   },
   "outputs": [],
   "source": [
    "mf.ShowMeshedField(scalars=Pz,scalarTitle=\"Pz\",showCenters=False)"
   ]
  },
  {
   "cell_type": "markdown",
   "metadata": {},
   "source": [
    "### plot the field traces of a given cell"
   ]
  },
  {
   "cell_type": "code",
   "execution_count": 7,
   "metadata": {
    "collapsed": true
   },
   "outputs": [],
   "source": [
    "# this forces a separate plot window\n",
    "%matplotlib qt\n",
    "\n",
    "# two plots are overlaid in the same plotwindow\n",
    "mf.ShowFieldTrace(1190)\n",
    "mf.ShowFieldTrace(119)"
   ]
  },
  {
   "cell_type": "code",
   "execution_count": 12,
   "metadata": {
    "collapsed": true
   },
   "outputs": [],
   "source": [
    "# this forces a separate plot window\n",
    "%matplotlib qt\n",
    "\n",
    "# plot a field trace when a cell is clicked\n",
    "# subsequent plots are overlaid in the same window\n",
    "# the plot window only becomes active when the VTK window is closed (it should be spawned as a separate thread)\n",
    "def action(id):\n",
    "    mf.ShowFieldTrace(id)\n",
    "\n",
    "mf.ShowMeshedField(scalars=Pz,scalarTitle=\"Pz\",showCenters=False, pickAction=action)"
   ]
  },
  {
   "cell_type": "code",
   "execution_count": null,
   "metadata": {
    "collapsed": true
   },
   "outputs": [],
   "source": []
  }
 ],
 "metadata": {
  "kernelspec": {
   "display_name": "Python 3",
   "language": "python",
   "name": "python3"
  },
  "language_info": {
   "codemirror_mode": {
    "name": "ipython",
    "version": 3
   },
   "file_extension": ".py",
   "mimetype": "text/x-python",
   "name": "python",
   "nbconvert_exporter": "python",
   "pygments_lexer": "ipython3",
   "version": "3.5.3"
  }
 },
 "nbformat": 4,
 "nbformat_minor": 2
}
