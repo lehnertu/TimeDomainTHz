{
 "cells": [
  {
   "cell_type": "markdown",
   "metadata": {},
   "source": [
    "# Create a meshed screen with a Gaussian beam"
   ]
  },
  {
   "cell_type": "markdown",
   "metadata": {},
   "source": [
    "The screen is placed at the origin in the x-y-plane.<br>\n",
    "The screen normal is pointing in the negative z direction (x - right, y - up).<br>\n",
    "The beam is propagating in positive z direction."
   ]
  },
  {
   "cell_type": "markdown",
   "metadata": {},
   "source": [
    "if not yet available some libraries have to be installed :<br>\n",
    "- gmsh (best installed globally through package management system)\n",
    "- python3 -m pip install pygmsh --user\n",
    "- python3 -m pip install vtk --user"
   ]
  },
  {
   "cell_type": "code",
   "execution_count": 1,
   "metadata": {
    "collapsed": true
   },
   "outputs": [],
   "source": [
    "%matplotlib inline\n",
    "import matplotlib.pyplot as plt\n",
    "import vtk\n",
    "\n",
    "import pygmsh\n",
    "import numpy as np\n",
    "from scipy import constants\n",
    "import h5py"
   ]
  },
  {
   "cell_type": "code",
   "execution_count": 1,
   "metadata": {
    "collapsed": true
   },
   "outputs": [],
   "source": [
    "import numpy as np\n",
    "from scipy import constants\n",
    "import MeshFields as MF"
   ]
  },
  {
   "cell_type": "code",
   "execution_count": 2,
   "metadata": {
    "collapsed": false
   },
   "outputs": [
    {
     "name": "stdout",
     "output_type": "stream",
     "text": [
      "10660 points\n",
      "20998 triangles\n",
      "20998 source positions\n"
     ]
    }
   ],
   "source": [
    "pts, tris = MF.CircularMesh(R=0.04, ratio=1.0, lcar=0.02)\n",
    "print(\"%d points\" % len(pts))\n",
    "print(\"%d triangles\" % len(tris))\n",
    "pos = [(pts[t[0]] + pts[t[1]] + pts[t[2]]) / 3.0 for t in tris]\n",
    "NP = len(pos)\n",
    "print(\"%d source positions\" % NP)"
   ]
  },
  {
   "cell_type": "code",
   "execution_count": 3,
   "metadata": {
    "collapsed": false
   },
   "outputs": [
    {
     "name": "stdout",
     "output_type": "stream",
     "text": [
      "1.06957750384e-07\n",
      "5.40974664727e-07\n",
      "0.00502621704173\n"
     ]
    }
   ],
   "source": [
    "area = MF.MeshArea(pts, tris)\n",
    "print(np.min(area))\n",
    "print(np.max(area))\n",
    "print(np.sum(area))"
   ]
  },
  {
   "cell_type": "code",
   "execution_count": 4,
   "metadata": {
    "collapsed": false
   },
   "outputs": [
    {
     "name": "stdout",
     "output_type": "stream",
     "text": [
      "[     0.      0.  20998.]\n"
     ]
    }
   ],
   "source": [
    "normals = MF.MeshNormals(pts, tris)\n",
    "print(np.sum(normals, axis=0))"
   ]
  },
  {
   "cell_type": "markdown",
   "metadata": {},
   "source": [
    "### define the beam parameters"
   ]
  },
  {
   "cell_type": "code",
   "execution_count": 5,
   "metadata": {
    "collapsed": false
   },
   "outputs": [
    {
     "name": "stdout",
     "output_type": "stream",
     "text": [
      "f = 0.30 THz\n",
      "λ = 999.31 µm\n",
      "w0 = 20.00 mm\n",
      "Rayleigh range = 1.258 m\n"
     ]
    }
   ],
   "source": [
    "# time step\n",
    "dt=2.0e-14\n",
    "NOTS=400\n",
    "\n",
    "# wave parameters\n",
    "tau = 4.0e-12\n",
    "f = 0.3e12\n",
    "print(\"f = %.2f THz\" % (f*1e-12))\n",
    "w0 = 0.02\n",
    "lam = constants.c/f\n",
    "print(\"λ = %.2f µm\" % (lam*1e6))\n",
    "zR = np.pi*w0*w0/lam\n",
    "print(\"w0 = %.2f mm\" % (1e3*w0))\n",
    "print(\"Rayleigh range = %.3f m\" % zR)\n"
   ]
  },
  {
   "cell_type": "markdown",
   "metadata": {},
   "source": [
    "### compute the field traces for every point"
   ]
  },
  {
   "cell_type": "code",
   "execution_count": 6,
   "metadata": {
    "collapsed": false
   },
   "outputs": [],
   "source": [
    "# all points use the same timing grid\n",
    "t = np.linspace(-NOTS/2*dt, (NOTS/2-1)*dt, NOTS)\n",
    "t0 = [-NOTS/2*dt for dummy in t]\n",
    "# field (6 components) traces on screen\n",
    "A = np.zeros((NP,NOTS,6))\n",
    "# electric field amplitude in V/m\n",
    "E0 = 2.0e7\n",
    "# magnetic field amplitude in T\n",
    "B0 = E0 / constants.c\n",
    "\n",
    "for ip, p in enumerate(pos):\n",
    "    r = np.sqrt(p[0]*p[0]+p[1]*p[1])\n",
    "    # field strength\n",
    "    osc = np.cos(2.0*np.pi*f*t) * np.exp(-r*r/(w0*w0)) * np.exp(-np.square(t)/(2.0*tau*tau))\n",
    "    Ex = E0 * osc\n",
    "    Ey = np.zeros_like(Ex)\n",
    "    Ez = np.zeros_like(Ex)\n",
    "    Bx = np.zeros_like(Ex)\n",
    "    By = B0 * osc\n",
    "    Bz = np.zeros_like(Ex)\n",
    "    trace = np.array([Ex,Ey,Ez,Bx,By,Bz]).transpose()\n",
    "    A[ip] = trace"
   ]
  },
  {
   "cell_type": "code",
   "execution_count": 7,
   "metadata": {
    "collapsed": false
   },
   "outputs": [
    {
     "name": "stdout",
     "output_type": "stream",
     "text": [
      "peak energy density = 3.242731 J/m²\n",
      "total pulse energy = 2037.2 µJ\n"
     ]
    }
   ],
   "source": [
    "# compute power density for plotting\n",
    "Pz = []\n",
    "for trace in A:\n",
    "    EVec = trace[:,0:3]\n",
    "    BVec = trace[:,3:6]\n",
    "    SVec = np.cross(EVec, BVec) / constants.mu_0\n",
    "    Pz.append((SVec.sum(axis=0))[2]*dt)\n",
    "\n",
    "print(\"peak energy density = %.6f J/m²\" % np.max(Pz))\n",
    "print(\"total pulse energy = %.1f µJ\" % (1e6*np.dot(area,Pz)))"
   ]
  },
  {
   "cell_type": "markdown",
   "metadata": {},
   "source": [
    "### display mesh"
   ]
  },
  {
   "cell_type": "code",
   "execution_count": 9,
   "metadata": {
    "collapsed": false
   },
   "outputs": [],
   "source": [
    "MF.ShowMesh(pts,tris,pos)"
   ]
  },
  {
   "cell_type": "code",
   "execution_count": 10,
   "metadata": {
    "collapsed": true
   },
   "outputs": [],
   "source": [
    "MF.ShowMesh(pts,tris,scalars=Pz,scalarTitle=\"Pz\")"
   ]
  },
  {
   "cell_type": "code",
   "execution_count": 12,
   "metadata": {
    "collapsed": false
   },
   "outputs": [],
   "source": [
    "filename=\"Mesh.h5\"\n",
    "MF.WriteMesh(filename, pts,tris,pos)"
   ]
  },
  {
   "cell_type": "code",
   "execution_count": 13,
   "metadata": {
    "collapsed": false
   },
   "outputs": [],
   "source": [
    "filename=\"MeshGaussian.h5\"\n",
    "MF.WriteMeshField(filename, pts,tris,pos,t0,dt,A)"
   ]
  },
  {
   "cell_type": "code",
   "execution_count": 15,
   "metadata": {
    "collapsed": false
   },
   "outputs": [
    {
     "name": "stdout",
     "output_type": "stream",
     "text": [
      "peak energy density = 3.242731 J/m²\n",
      "total pulse energy = 2037.2 µJ\n"
     ]
    }
   ],
   "source": [
    "filename=\"MeshGaussian.h5\"\n",
    "pts, tris, pos, t0, dt, A = MF.ReadMeshField(filename)\n",
    "\n",
    "# compute power density for plotting\n",
    "Pz = []\n",
    "for trace in A:\n",
    "    EVec = trace[:,0:3]\n",
    "    BVec = trace[:,3:6]\n",
    "    SVec = np.cross(EVec, BVec) / constants.mu_0\n",
    "    Pz.append((SVec.sum(axis=0))[2]*dt)\n",
    "\n",
    "print(\"peak energy density = %.6f J/m²\" % np.max(Pz))\n",
    "print(\"total pulse energy = %.1f µJ\" % (1e6*np.dot(area,Pz)))\n",
    "\n",
    "MF.ShowMesh(pts,tris,scalars=Pz,scalarTitle=\"Pz\")"
   ]
  },
  {
   "cell_type": "code",
   "execution_count": null,
   "metadata": {
    "collapsed": true
   },
   "outputs": [],
   "source": []
  }
 ],
 "metadata": {
  "kernelspec": {
   "display_name": "Python 3",
   "language": "python",
   "name": "python3"
  },
  "language_info": {
   "codemirror_mode": {
    "name": "ipython",
    "version": 3
   },
   "file_extension": ".py",
   "mimetype": "text/x-python",
   "name": "python",
   "nbconvert_exporter": "python",
   "pygments_lexer": "ipython3",
   "version": "3.5.3"
  }
 },
 "nbformat": 4,
 "nbformat_minor": 2
}
