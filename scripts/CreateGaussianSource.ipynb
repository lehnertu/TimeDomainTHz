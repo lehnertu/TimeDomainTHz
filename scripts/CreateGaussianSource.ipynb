{
 "cells": [
  {
   "cell_type": "markdown",
   "metadata": {},
   "source": [
    "# Create a meshed screen with a Gaussian beam"
   ]
  },
  {
   "cell_type": "markdown",
   "metadata": {},
   "source": [
    "The screen is placed at the origin in the x-y-plane.<br>\n",
    "The screen normal is pointing in the negative z direction (x - right, y - up).<br>\n",
    "The beam is propagating in positive z direction."
   ]
  },
  {
   "cell_type": "markdown",
   "metadata": {},
   "source": [
    "if not yet available some libraries have to be installed :<br>\n",
    "- gmsh (best installed globally through package management system)\n",
    "- python3 -m pip install pygmsh --user\n",
    "- python3 -m pip install vtk --user"
   ]
  },
  {
   "cell_type": "code",
   "execution_count": 1,
   "metadata": {},
   "outputs": [],
   "source": [
    "import numpy as np\n",
    "from scipy import constants\n",
    "from MeshedFields import *"
   ]
  },
  {
   "cell_type": "code",
   "execution_count": 2,
   "metadata": {},
   "outputs": [
    {
     "name": "stdout",
     "output_type": "stream",
     "text": [
      "464 points\n",
      "858 triangles\n"
     ]
    }
   ],
   "source": [
    "source = MeshedField.CircularMesh(R=0.04, ratio=1.0, lcar=0.1)\n",
    "print(\"%d points\" % len(source.points))\n",
    "print(\"%d triangles\" % len(source.triangles))"
   ]
  },
  {
   "cell_type": "code",
   "execution_count": 3,
   "metadata": {},
   "outputs": [
    {
     "name": "stdout",
     "output_type": "stream",
     "text": [
      "3.19230381755e-06\n",
      "1.05029470381e-05\n",
      "0.00501847758487\n"
     ]
    }
   ],
   "source": [
    "area = source.MeshArea()\n",
    "print(np.min(area))\n",
    "print(np.max(area))\n",
    "print(np.sum(area))"
   ]
  },
  {
   "cell_type": "code",
   "execution_count": 4,
   "metadata": {},
   "outputs": [
    {
     "name": "stdout",
     "output_type": "stream",
     "text": [
      "[   0.    0. -858.]\n"
     ]
    }
   ],
   "source": [
    "normals = source.MeshNormals()\n",
    "print(np.sum(normals, axis=0))"
   ]
  },
  {
   "cell_type": "markdown",
   "metadata": {},
   "source": [
    "### define the beam parameters"
   ]
  },
  {
   "cell_type": "code",
   "execution_count": 5,
   "metadata": {},
   "outputs": [
    {
     "name": "stdout",
     "output_type": "stream",
     "text": [
      "f = 0.30 THz\n",
      "λ = 999.31 µm\n",
      "w0 = 20.00 mm\n",
      "Rayleigh range = 1.258 m\n"
     ]
    }
   ],
   "source": [
    "# time step\n",
    "dt=1.0e-13\n",
    "NOTS=400\n",
    "\n",
    "# wave parameters\n",
    "tau = 4.0e-12\n",
    "f = 0.3e12\n",
    "print(\"f = %.2f THz\" % (f*1e-12))\n",
    "w0 = 0.02\n",
    "lam = constants.c/f\n",
    "print(\"λ = %.2f µm\" % (lam*1e6))\n",
    "zR = np.pi*w0*w0/lam\n",
    "print(\"w0 = %.2f mm\" % (1e3*w0))\n",
    "print(\"Rayleigh range = %.3f m\" % zR)\n"
   ]
  },
  {
   "cell_type": "markdown",
   "metadata": {},
   "source": [
    "### compute the field traces for every point"
   ]
  },
  {
   "cell_type": "code",
   "execution_count": 6,
   "metadata": {},
   "outputs": [],
   "source": [
    "# all points use the same timing grid\n",
    "t = np.linspace(-NOTS/2*dt, (NOTS/2-1)*dt, NOTS)\n",
    "source.dt = dt\n",
    "source.Nt = NOTS\n",
    "source.t0 = np.full(source.Np,-NOTS/2*dt)\n",
    "# field (6 components) traces on screen\n",
    "source.A = np.zeros((source.Np,NOTS,6))\n",
    "# electric field amplitude in V/m\n",
    "E0 = 2.0e7\n",
    "# magnetic field amplitude in T\n",
    "B0 = E0 / constants.c\n",
    "\n",
    "for ip, p in enumerate(source.pos):\n",
    "    r = np.sqrt(p[0]*p[0]+p[1]*p[1])\n",
    "    # field strength\n",
    "    osc = np.cos(2.0*np.pi*f*t) * np.exp(-r*r/(w0*w0)) * np.exp(-np.square(t)/(2.0*tau*tau))\n",
    "    Ex = E0 * osc\n",
    "    Ey = np.zeros_like(Ex)\n",
    "    Ez = np.zeros_like(Ex)\n",
    "    Bx = np.zeros_like(Ex)\n",
    "    By = B0 * osc\n",
    "    Bz = np.zeros_like(Ex)\n",
    "    trace = np.array([Ex,Ey,Ez,Bx,By,Bz]).transpose()\n",
    "    source.A[ip] = trace"
   ]
  },
  {
   "cell_type": "code",
   "execution_count": 7,
   "metadata": {},
   "outputs": [
    {
     "data": {
      "text/plain": [
       "(858, 400, 6)"
      ]
     },
     "execution_count": 7,
     "metadata": {},
     "output_type": "execute_result"
    }
   ],
   "source": [
    "source.A.shape"
   ]
  },
  {
   "cell_type": "code",
   "execution_count": 8,
   "metadata": {},
   "outputs": [
    {
     "name": "stdout",
     "output_type": "stream",
     "text": [
      "total mesh area =  50.185 cm²\n",
      "peak energy density = 3.696647 J/m²\n",
      "total pulse energy = 2364.3 µJ\n"
     ]
    }
   ],
   "source": [
    "# compute power density for plotting\n",
    "area = source.MeshArea()\n",
    "P = source.EnergyFlowDensity()\n",
    "Pz = P[:,2]\n",
    "\n",
    "print(\"total mesh area = %7.3f cm²\" % (1.0e4*np.sum(area)))\n",
    "print(\"peak energy density = %.6f J/m²\" % np.max(Pz))\n",
    "print(\"total pulse energy = %.1f µJ\" % (1e6*np.dot(area,Pz)))"
   ]
  },
  {
   "cell_type": "markdown",
   "metadata": {},
   "source": [
    "### display mesh"
   ]
  },
  {
   "cell_type": "code",
   "execution_count": 9,
   "metadata": {},
   "outputs": [],
   "source": [
    "source.ShowMeshedField()"
   ]
  },
  {
   "cell_type": "code",
   "execution_count": 10,
   "metadata": {},
   "outputs": [],
   "source": [
    "source.ShowMeshedField(scalars=Pz,scalarTitle=\"Pz\",showCenters=False)"
   ]
  },
  {
   "cell_type": "code",
   "execution_count": 11,
   "metadata": {},
   "outputs": [],
   "source": [
    "filename=\"MeshGaussian.h5\"\n",
    "source.WriteMeshedField(filename)"
   ]
  },
  {
   "cell_type": "code",
   "execution_count": 8,
   "metadata": {},
   "outputs": [
    {
     "name": "stdout",
     "output_type": "stream",
     "text": [
      "peak energy density = 3.696647 J/m²\n",
      "total pulse energy = 2364.3 µJ\n"
     ]
    }
   ],
   "source": [
    "filename=\"MeshGaussian.h5\"\n",
    "readback = MeshedField.ReadMeshedField(filename)\n",
    "\n",
    "# compute power density for plotting\n",
    "area = readback.MeshArea()\n",
    "P = readback.EnergyFlowDensity()\n",
    "Pz = P[:,2]\n",
    "\n",
    "print(\"peak energy density = %.6f J/m²\" % np.max(Pz))\n",
    "print(\"total pulse energy = %.1f µJ\" % (1e6*np.dot(area,Pz)))\n",
    "\n",
    "readback.ShowMeshedField(scalars=Pz,scalarTitle=\"Pz\")"
   ]
  },
  {
   "cell_type": "markdown",
   "metadata": {},
   "source": [
    "## create target screen at 0.2 m distance"
   ]
  },
  {
   "cell_type": "code",
   "execution_count": 12,
   "metadata": {},
   "outputs": [],
   "source": [
    "d = np.array([0,0,0.2])\n",
    "prop_time = 0.2/constants.c\n",
    "dt = source.dt\n",
    "target_pts = [p + d for p in source.points]\n",
    "target = MeshedField(target_pts,source.triangles)\n",
    "target.t0 = [t + prop_time - 100*dt for t in source.t0]\n",
    "target.Nt = source.Nt + 200\n",
    "target.dt = dt\n",
    "\n",
    "filename=\"NearTarget.h5\"\n",
    "target.WriteMeshedField(filename)"
   ]
  },
  {
   "cell_type": "markdown",
   "metadata": {},
   "source": [
    "Now we propagate the beam to this target. This could be the command to run:<br>\n",
    "../build/Propagate MeshGaussian.h5 NearTarget.h5 <br>\n",
    "The program rewrites the file with the propagated fields. We now read and display these data."
   ]
  },
  {
   "cell_type": "code",
   "execution_count": 9,
   "metadata": {},
   "outputs": [
    {
     "name": "stdout",
     "output_type": "stream",
     "text": [
      "peak energy density = 3.550818 J/m²\n",
      "total pulse energy = 2478.8 µJ\n"
     ]
    }
   ],
   "source": [
    "filename=\"NearTarget.h5\"\n",
    "readback = MeshedField.ReadMeshedField(filename)\n",
    "\n",
    "# compute power density for plotting\n",
    "area = readback.MeshArea()\n",
    "P = readback.EnergyFlowDensity()\n",
    "Pz = P[:,2]\n",
    "\n",
    "print(\"peak energy density = %.6f J/m²\" % np.max(Pz))\n",
    "print(\"total pulse energy = %.1f µJ\" % (1e6*np.dot(area,Pz)))\n",
    "\n",
    "def pick(id):\n",
    "    readback.ShowFieldTrace(id)\n",
    "    \n",
    "readback.ShowMeshedField(scalars=Pz,scalarTitle=\"Pz\",showCenters=False,pickAction=pick)"
   ]
  },
  {
   "cell_type": "markdown",
   "metadata": {},
   "source": [
    "## create target screen at 1.258 m distance"
   ]
  },
  {
   "cell_type": "code",
   "execution_count": 17,
   "metadata": {},
   "outputs": [],
   "source": [
    "d = np.array([0,0,1.258])\n",
    "prop_time = 1.258/constants.c\n",
    "target_pts = [p*1.4 + d for p in source.points]\n",
    "target = MeshedField(target_pts,source.triangles)\n",
    "target.t0 = [prop_time+t for t in source.t0]\n",
    "target.Nt = source.Nt\n",
    "target.dt = source.dt\n",
    "\n",
    "filename=\"Target.h5\"\n",
    "target.WriteMeshedField(filename)"
   ]
  },
  {
   "cell_type": "code",
   "execution_count": 18,
   "metadata": {},
   "outputs": [
    {
     "name": "stdout",
     "output_type": "stream",
     "text": [
      "peak energy density = 1.843196 J/m²\n",
      "total pulse energy = 2320.8 µJ\n"
     ]
    }
   ],
   "source": [
    "filename=\"Target.h5\"\n",
    "readback = MeshedField.ReadMeshedField(filename)\n",
    "\n",
    "# compute power density for plotting\n",
    "area = readback.MeshArea()\n",
    "P = readback.EnergyFlowDensity()\n",
    "Pz = P[:,2]\n",
    "\n",
    "print(\"peak energy density = %.6f J/m²\" % np.max(Pz))\n",
    "print(\"total pulse energy = %.1f µJ\" % (1e6*np.dot(area,Pz)))\n",
    "\n",
    "readback.ShowMeshedField(scalars=Pz,scalarTitle=\"Pz\")"
   ]
  },
  {
   "cell_type": "code",
   "execution_count": null,
   "metadata": {
    "collapsed": true
   },
   "outputs": [],
   "source": []
  }
 ],
 "metadata": {
  "kernelspec": {
   "display_name": "Python 3",
   "language": "python",
   "name": "python3"
  },
  "language_info": {
   "codemirror_mode": {
    "name": "ipython",
    "version": 3
   },
   "file_extension": ".py",
   "mimetype": "text/x-python",
   "name": "python",
   "nbconvert_exporter": "python",
   "pygments_lexer": "ipython3",
   "version": "3.5.3"
  }
 },
 "nbformat": 4,
 "nbformat_minor": 2
}
