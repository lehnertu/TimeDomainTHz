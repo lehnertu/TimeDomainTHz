{
 "cells": [
  {
   "cell_type": "markdown",
   "metadata": {},
   "source": [
    "# Create a meshed screen with a Gaussian beam"
   ]
  },
  {
   "cell_type": "markdown",
   "metadata": {},
   "source": [
    "The screen is placed at the origin in the x-y-plane.<br>\n",
    "The screen normal is pointing in the negative z direction (x - right, y - up).<br>\n",
    "The beam is propagating in positive z direction."
   ]
  },
  {
   "cell_type": "markdown",
   "metadata": {},
   "source": [
    "if not yet available some libraries have to be installed :<br>\n",
    "- gmsh (best installed globally through package management system)\n",
    "- python3 -m pip install pygmsh --user\n",
    "- python3 -m pip install vtk --user"
   ]
  },
  {
   "cell_type": "code",
   "execution_count": 1,
   "metadata": {
    "collapsed": true
   },
   "outputs": [],
   "source": [
    "%matplotlib inline\n",
    "import matplotlib.pyplot as plt\n",
    "import vtk\n",
    "\n",
    "import pygmsh\n",
    "import numpy as np\n",
    "from scipy import constants\n",
    "import h5py"
   ]
  },
  {
   "cell_type": "code",
   "execution_count": 2,
   "metadata": {
    "collapsed": true
   },
   "outputs": [],
   "source": [
    "def CircularMesh(R, ratio=1.0, lcar=0.1):\n",
    "    \"\"\"\n",
    "    Create a circular mesh with radius R around the origin [0,0,0].\n",
    "    The normal vector is (0,0,1) in z-direction, the disk lies in the x-y-plane.\n",
    "    \n",
    "    The density of the grid is increased by ratio in the x-direction.\n",
    "    The average cell dimensions are given by lcar. The average cell dimension in\n",
    "    x-direction, thus, is lcar/ratio.\n",
    "    \n",
    "    returns:\n",
    "    - an array of point corrdinates [3 float]\n",
    "    - a connection list of triangles [3 int references into the array of points]\n",
    "    \"\"\"\n",
    "    geom = pygmsh.built_in.Geometry()\n",
    "    # we create the initial geometry as a streched ellipse to create\n",
    "    # different scaling lengths (cell sizes) along the different axes\n",
    "    p1 = geom.add_point([ratio, 0.0, 0.0], lcar)\n",
    "    p2 = geom.add_point([0.0, 1.0, 0.0], lcar)\n",
    "    p3 = geom.add_point([-ratio, 0.0, 0.0], lcar)\n",
    "    p4 = geom.add_point([0.0, -1.0, 0.0], lcar)\n",
    "    pc = geom.add_point([0.0, 0.0, 0.0], lcar)\n",
    "    pa = geom.add_point([1.0, 0.0, 0.0], lcar)\n",
    "    # the mesh is circumscribed with four elliptic arcs\n",
    "    e1 = geom.add_ellipse_arc(start=p1, center=pc, point_on_major_axis=pa, end=p2)\n",
    "    e2 = geom.add_ellipse_arc(start=p2, center=pc, point_on_major_axis=pa, end=p3)\n",
    "    e3 = geom.add_ellipse_arc(start=p3, center=pc, point_on_major_axis=pa, end=p4)\n",
    "    e4 = geom.add_ellipse_arc(start=p4, center=pc, point_on_major_axis=pa, end=p1)\n",
    "    # these are combined into a line loop\n",
    "    ll = geom.add_line_loop([e1,e2,e3,e4])\n",
    "    geom.add_plane_surface(ll)\n",
    "    # now we can create the mesh\n",
    "    mesh = pygmsh.generate_mesh(geom, dim=2, verbose=False)\n",
    "    # we reverse the streching by scaling the coordinates accordingly\n",
    "    points = np.array([ p*R*[1.0/ratio,1,1] for p in mesh.points ])\n",
    "    triangles = mesh.cells['triangle']\n",
    "    return points, triangles"
   ]
  },
  {
   "cell_type": "code",
   "execution_count": 3,
   "metadata": {
    "collapsed": false
   },
   "outputs": [
    {
     "name": "stdout",
     "output_type": "stream",
     "text": [
      "459 points\n",
      "848 triangles\n",
      "848 source positions\n"
     ]
    }
   ],
   "source": [
    "pts, tris = CircularMesh(R=0.04, ratio=1.0, lcar=0.1)\n",
    "print(\"%d points\" % len(pts))\n",
    "print(\"%d triangles\" % len(tris))\n",
    "pos = [(pts[t[0]] + pts[t[1]] + pts[t[2]]) / 3.0 for t in tris]\n",
    "NP = len(pos)\n",
    "print(\"%d source positions\" % NP)"
   ]
  },
  {
   "cell_type": "code",
   "execution_count": 4,
   "metadata": {
    "collapsed": false
   },
   "outputs": [
    {
     "name": "stdout",
     "output_type": "stream",
     "text": [
      "3.07937892558e-06\n",
      "1.16543167076e-05\n",
      "0.00501847758487\n"
     ]
    }
   ],
   "source": [
    "def MeshArea(points, triangles):\n",
    "    \"\"\"\n",
    "    Compute the area of all mesh cells\n",
    "    \"\"\"\n",
    "    area=[]\n",
    "    for i, t in enumerate(triangles):\n",
    "        p1 = points[t[0]]\n",
    "        p2 = points[t[1]]\n",
    "        p3 = points[t[2]]\n",
    "        r1 = p2-p1\n",
    "        r2 = p3-p1\n",
    "        area.append(0.5*np.linalg.norm(np.cross(r1,r2)))\n",
    "    return np.array(area)\n",
    "\n",
    "area = MeshArea(pts, tris)\n",
    "print(np.min(area))\n",
    "print(np.max(area))\n",
    "print(np.sum(area))"
   ]
  },
  {
   "cell_type": "code",
   "execution_count": 5,
   "metadata": {
    "collapsed": false
   },
   "outputs": [
    {
     "name": "stdout",
     "output_type": "stream",
     "text": [
      "[   0.    0.  848.]\n"
     ]
    }
   ],
   "source": [
    "def MeshNormals(points, triangles):\n",
    "    \"\"\"\n",
    "    Compute the normal vectors of all mesh cells\n",
    "    \"\"\"\n",
    "    normals=[]\n",
    "    for i, t in enumerate(triangles):\n",
    "        p1 = points[t[0]]\n",
    "        p2 = points[t[1]]\n",
    "        p3 = points[t[2]]\n",
    "        r1 = p2-p1\n",
    "        r2 = p3-p1\n",
    "        n = np.cross(r1,r2)\n",
    "        normals.append(n / np.linalg.norm(n))\n",
    "    return np.array(normals)\n",
    "\n",
    "normals = MeshNormals(pts, tris)\n",
    "print(np.sum(normals, axis=0))"
   ]
  },
  {
   "cell_type": "markdown",
   "metadata": {},
   "source": [
    "### define the beam parameters"
   ]
  },
  {
   "cell_type": "code",
   "execution_count": 6,
   "metadata": {
    "collapsed": false
   },
   "outputs": [
    {
     "name": "stdout",
     "output_type": "stream",
     "text": [
      "f = 2.00 THz\n",
      "λ = 149.90 µm\n",
      "w0 = 5.00 mm\n",
      "Rayleigh range = 0.524 m\n"
     ]
    }
   ],
   "source": [
    "# time step\n",
    "dt=2.0e-14\n",
    "NOTS=400\n",
    "\n",
    "# wave parameters\n",
    "tau = 1.0e-12\n",
    "f = 2.0e12\n",
    "print(\"f = %.2f THz\" % (f*1e-12))\n",
    "w0 = 0.005\n",
    "lam = constants.c/f\n",
    "print(\"λ = %.2f µm\" % (lam*1e6))\n",
    "zR = np.pi*w0*w0/lam\n",
    "print(\"w0 = %.2f mm\" % (1e3*w0))\n",
    "print(\"Rayleigh range = %.3f m\" % zR)\n"
   ]
  },
  {
   "cell_type": "markdown",
   "metadata": {},
   "source": [
    "### compute the field traces for every point"
   ]
  },
  {
   "cell_type": "code",
   "execution_count": 7,
   "metadata": {
    "collapsed": false
   },
   "outputs": [],
   "source": [
    "# all points use the same timing grid\n",
    "t = np.linspace(-NOTS/2*dt, (NOTS/2-1)*dt, NOTS)\n",
    "# field (6 components) traces on screen\n",
    "A = np.zeros((NP,NOTS,6))\n",
    "# electric field amplitude in V/m\n",
    "E0 = 2.0e7\n",
    "# magnetic field amplitude in T\n",
    "B0 = E0 / constants.c\n",
    "\n",
    "for ip, p in enumerate(pos):\n",
    "    r = np.sqrt(p[0]*p[0]+p[1]*p[1])\n",
    "    # field strength\n",
    "    osc = np.cos(2.0*np.pi*f*t) * np.exp(-r*r/(w0*w0)) * np.exp(-np.square(t)/(2.0*tau*tau))\n",
    "    Ex = E0 * osc\n",
    "    Ey = np.zeros_like(Ex)\n",
    "    Ez = np.zeros_like(Ex)\n",
    "    Bx = np.zeros_like(Ex)\n",
    "    By = B0 * osc\n",
    "    Bz = np.zeros_like(Ex)\n",
    "    trace = np.array([Ex,Ey,Ez,Bx,By,Bz]).transpose()\n",
    "    A[ip] = trace"
   ]
  },
  {
   "cell_type": "code",
   "execution_count": 8,
   "metadata": {
    "collapsed": false
   },
   "outputs": [
    {
     "name": "stdout",
     "output_type": "stream",
     "text": [
      "peak energy density = 0.752298 J/m²\n",
      "total pulse energy = 37.0 µJ\n"
     ]
    }
   ],
   "source": [
    "# compute power density for plotting\n",
    "Pz = []\n",
    "for trace in A:\n",
    "    EVec = trace[:,0:3]\n",
    "    BVec = trace[:,3:6]\n",
    "    SVec = np.cross(EVec, BVec) / constants.mu_0\n",
    "    Pz.append((SVec.sum(axis=0))[2]*dt)\n",
    "\n",
    "print(\"peak energy density = %.6f J/m²\" % np.max(Pz))\n",
    "print(\"total pulse energy = %.1f µJ\" % (1e6*np.dot(area,Pz)))"
   ]
  },
  {
   "cell_type": "markdown",
   "metadata": {},
   "source": [
    "### display mesh"
   ]
  },
  {
   "cell_type": "code",
   "execution_count": 9,
   "metadata": {
    "collapsed": true
   },
   "outputs": [],
   "source": [
    "def ShowMesh(points, triangles, centers=[]):\n",
    "    \"\"\"\n",
    "    Render a display of a mesh geometry using VTK.\n",
    "    \"\"\"\n",
    "    # create a dataset for the triangle mesh\n",
    "    pts = vtk.vtkPoints()\n",
    "    for p in points:\n",
    "        pts.InsertNextPoint(p)\n",
    "    cells = vtk.vtkCellArray()\n",
    "    for t in triangles:\n",
    "        cells.InsertNextCell(3, t)\n",
    "    meshData = vtk.vtkPolyData()\n",
    "    meshData.SetPoints(pts)\n",
    "    meshData.SetPolys(cells)\n",
    "    # create a dataset for the center points\n",
    "    if len(centers)>0:\n",
    "        cpts = vtk.vtkPoints()\n",
    "        for p in centers:\n",
    "            cpts.InsertNextPoint(p)\n",
    "        ccells = vtk.vtkCellArray()\n",
    "        for i in range(len(centers)):\n",
    "            ccells.InsertNextCell(1, [i])\n",
    "        centerData = vtk.vtkPolyData()\n",
    "        centerData.SetPoints(cpts)\n",
    "        centerData.SetVerts(ccells)\n",
    "    colors = vtk.vtkNamedColors()\n",
    "    # map the triangle mesh into the scene\n",
    "    meshMapper = vtk.vtkPolyDataMapper()\n",
    "    meshMapper.SetInputData(meshData)\n",
    "    meshActor = vtk.vtkActor()\n",
    "    meshActor.SetMapper(meshMapper)\n",
    "    meshActor.GetProperty().SetPointSize(5)\n",
    "    meshActor.GetProperty().SetColor(colors.GetColor3d(\"Red\"))\n",
    "    meshActor.GetProperty().EdgeVisibilityOn()\n",
    "    # map the center points into the scene\n",
    "    if len(centers)>0:\n",
    "        centerMapper = vtk.vtkPolyDataMapper()\n",
    "        centerMapper.SetInputData(centerData)\n",
    "        centerActor = vtk.vtkActor()\n",
    "        centerActor.SetMapper(centerMapper)\n",
    "        centerActor.GetProperty().SetPointSize(3)\n",
    "        centerActor.GetProperty().SetColor(colors.GetColor3d(\"Blue\"))\n",
    "    # visualize the coordinate system\n",
    "    axesActor = vtk.vtkAxesActor()\n",
    "    # create a render window\n",
    "    renderer = vtk.vtkRenderer()\n",
    "    renderWindow = vtk.vtkRenderWindow()\n",
    "    renderWindow.SetSize(800,600)\n",
    "    renderWindow.AddRenderer(renderer)\n",
    "    renderWindowInteractor = vtk.vtkRenderWindowInteractor()\n",
    "    renderWindowInteractor.SetRenderWindow(renderWindow)\n",
    "    renderWindowInteractor.Initialize()\n",
    "    style = vtk.vtkInteractorStyleTrackballCamera()\n",
    "    renderWindowInteractor.SetInteractorStyle(style)\n",
    "    # add the actors to the scene\n",
    "    renderer.AddActor(meshActor)\n",
    "    if len(centers)>0: renderer.AddActor(centerActor)\n",
    "    renderer.AddActor(axesActor)\n",
    "    renderer.SetBackground(colors.GetColor3d(\"SlateGray\"))\n",
    "    # render and interact\n",
    "    renderWindow.Render()\n",
    "    renderWindowInteractor.Start()\n",
    "    # now the interaction is running until we close the window\n",
    "    # cleanup after closing the window\n",
    "    del renderWindow\n",
    "    del renderWindowInteractor"
   ]
  },
  {
   "cell_type": "code",
   "execution_count": 10,
   "metadata": {
    "collapsed": true
   },
   "outputs": [],
   "source": [
    "ShowMesh(pts,tris,pos)"
   ]
  },
  {
   "cell_type": "code",
   "execution_count": 27,
   "metadata": {
    "collapsed": true
   },
   "outputs": [],
   "source": [
    "def WriteMesh(filename, points, triangles, pos):\n",
    "    \"\"\"\n",
    "    Write the meshed geometry to an HDF5 file.\n",
    "    No time or field datasets are created in the file.\n",
    "    \"\"\"\n",
    "    hf = h5py.File(filename, 'w')\n",
    "    h5p = hf.create_dataset('MeshCornerPoints', data=points, dtype='f8')\n",
    "    h5p.attrs['Ncp'] = len(points)\n",
    "    h5p = hf.create_dataset('MeshTriangles', data=triangles, dtype='u4')\n",
    "    h5p.attrs['Ntri'] = len(triangles)\n",
    "    h5p = hf.create_dataset('ObservationPosition', data=pos)\n",
    "    h5p.attrs['Np'] = len(pos)\n",
    "    hf.close()"
   ]
  },
  {
   "cell_type": "code",
   "execution_count": 28,
   "metadata": {
    "collapsed": true
   },
   "outputs": [],
   "source": [
    "filename=\"CircularMesh.h5\"\n",
    "WriteMesh(filename, pts,tris,pos)"
   ]
  },
  {
   "cell_type": "code",
   "execution_count": 3,
   "metadata": {
    "collapsed": true
   },
   "outputs": [],
   "source": [
    "def ReadMesh(filename):\n",
    "    \"\"\"\n",
    "    Read the meshed geometry from an HDF5 file.\n",
    "    No time or field datasets are read.\n",
    "    Return arrays for mesh corner points, triangle associations and center (trace) positions.\n",
    "    \"\"\"\n",
    "    hdf = h5py.File(filename, \"r\")\n",
    "    p = hdf['MeshCornerPoints']\n",
    "    points = np.array(p)\n",
    "    p = hdf['MeshTriangles']\n",
    "    triangles = np.array(p)\n",
    "    p = hdf['ObservationPosition']\n",
    "    pos = np.array(p)\n",
    "    hdf.close()\n",
    "    return points, triangles, pos"
   ]
  },
  {
   "cell_type": "code",
   "execution_count": 4,
   "metadata": {
    "collapsed": true
   },
   "outputs": [],
   "source": [
    "pts, tris, pos = ReadMesh(\"CircularMesh.h5\")\n",
    "ShowMesh(pts,tris,pos)"
   ]
  },
  {
   "cell_type": "code",
   "execution_count": null,
   "metadata": {
    "collapsed": true
   },
   "outputs": [],
   "source": []
  }
 ],
 "metadata": {
  "kernelspec": {
   "display_name": "Python 3",
   "language": "python",
   "name": "python3"
  },
  "language_info": {
   "codemirror_mode": {
    "name": "ipython",
    "version": 3
   },
   "file_extension": ".py",
   "mimetype": "text/x-python",
   "name": "python",
   "nbconvert_exporter": "python",
   "pygments_lexer": "ipython3",
   "version": "3.5.3"
  }
 },
 "nbformat": 4,
 "nbformat_minor": 2
}
